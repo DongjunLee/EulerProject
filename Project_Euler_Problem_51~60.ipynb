{
 "cells": [
  {
   "cell_type": "markdown",
   "metadata": {
    "collapsed": true
   },
   "source": [
    "## Problem 51\n",
    "\n",
    "두 자리 숫자 *3의 첫번째 자리를 여러가지로 바꿨을 때 가능한 아홉 가지의 결과 중에서 13, 23, 43, 53, 73, 83의 여섯 개는 소수입니다.  \n",
    "\n",
    "56ㅁㅁ3 의 3번째와 4번째 자리를 동일한 숫자로 바꿔서 만들어지는 10개의 다섯자리 숫자 중에서는 아래에서 보듯이 7개가 소수가 되며, 이것은 이런 식으로 7개의 소수가 만들어지는 첫번째 경우입니다. 이 소수 집단의 첫번째 수인 56003은 이런 성질을 갖는 가장 작은 소수입니다.  \n",
    "\n",
    "56003, 56113, 56333, 56443, 56663, 56773, 56993  \n",
    "위의 예처럼 원래의 일부를 동일한 숫자로 치환했을 때 8개의 소수 집단이 만들어지는 경우를 찾고, 그 집단에 속한 가장 작은 소수를 구하세요.  \n",
    "치환하는 자리는 인접하지 않아도 되고, 가장 앞부분을 치환하는 경우 거기에 0은 올 수 없습니다.  "
   ]
  },
  {
   "cell_type": "code",
   "execution_count": 1,
   "metadata": {
    "collapsed": false
   },
   "outputs": [],
   "source": [
    "def find_prime_digit_replacements():\n",
    "    result = False\n",
    "    prime_list = sieve_of_era(10**7)\n",
    "    \n",
    "    digit_5_prime_list = list(filter(lambda x: len(str(x))==5, prime_list))\n",
    "    digit_5_pattern_list = [\n",
    "        [True, True, True, False],\n",
    "        [True, True, False, True],\n",
    "        [True, False, True, True],\n",
    "        [False, True, True, True]\n",
    "    ]\n",
    "    \n",
    "    digit_6_prime_list = list(filter(lambda x: len(str(x))==6, prime_list))\n",
    "    digit_6_pattern_list = [\n",
    "        [True, True, True, False, False],\n",
    "        [True, True, False, True, False],\n",
    "        [True, True, False, False, True],\n",
    "        [True, False, True, True, False],\n",
    "        [True, False, True, False, True],\n",
    "        [True, False, False, True, True],\n",
    "        [False, True, True, True, False],\n",
    "        [False, True, True, False, True],\n",
    "        [False, True, False, True, True],\n",
    "        [False, False, True, True, True]\n",
    "    ]\n",
    "    \n",
    "    digit_5 = find(digit_5_pattern_list, digit_5_prime_list)\n",
    "    digit_6 = find(digit_6_pattern_list, digit_6_prime_list)\n",
    "    \n",
    "    return digit_5, digit_6\n",
    "            \n",
    "def sieve_of_era(num):\n",
    "    sieve_list = [True] * num\n",
    "    start_num = 2\n",
    "    ##Sieve of Eratosthenes\n",
    "    for i in range(start_num, int(num**0.5)+1):\n",
    "        if sieve_list[i]:\n",
    "            sieve_list[i*i::i] = [False] * len(sieve_list[i*i::i])\n",
    "    return [i for i in range(2, num) if sieve_list[i]]\n",
    "\n",
    "def find(pattern_list, prime_list):\n",
    "    result = False\n",
    "    for pattern in pattern_list:\n",
    "        cadidate_list = []\n",
    "        not_repeat_set = set()\n",
    "        for prime in prime_list:\n",
    "            if is_repeat_three_digit(prime, pattern):\n",
    "                cadidate_list.append(prime)\n",
    "                not_repeat_set.add(not_repeat_num(prime, pattern))\n",
    "                \n",
    "        if is_eight_prime_value_family(cadidate_list, pattern, not_repeat_set):\n",
    "            result = True\n",
    "            break\n",
    "    return result\n",
    "    \n",
    "def is_repeat_three_digit(num, pattern):\n",
    "    check_num = str(num)[:-1]\n",
    "    count = 1\n",
    "    prev = -1\n",
    "    \n",
    "    for i in range(len(pattern)):\n",
    "        if pattern[i]:\n",
    "            if prev == -1:\n",
    "                prev = check_num[i]\n",
    "            elif prev == check_num[i]:\n",
    "                count += 1\n",
    "                \n",
    "    if count == 3:\n",
    "        return True\n",
    "    else:\n",
    "        return False\n",
    "\n",
    "def not_repeat_num(prime, pattern):\n",
    "    prime = str(prime)\n",
    "    num = \"\"\n",
    "    for i in range(len(pattern)):\n",
    "        if not pattern[i]:\n",
    "            num += prime[i]\n",
    "    return num + prime[-1]\n",
    "\n",
    "import re\n",
    "def is_eight_prime_value_family(cadidate_list, pattern, not_repeat_set):\n",
    "    \n",
    "    cadidates = \",\".join(list(map(lambda x: str(x), cadidate_list)))\n",
    "    \n",
    "    for not_repeat_num in not_repeat_set:\n",
    "        not_repeat_index = 0\n",
    "        re_pattern = \"\"\n",
    "        for p in pattern:\n",
    "            if(p):\n",
    "                re_pattern += \"\\d\"\n",
    "            else:\n",
    "                re_pattern += not_repeat_num[not_repeat_index]\n",
    "                not_repeat_index += 1\n",
    "        re_pattern += not_repeat_num[not_repeat_index]\n",
    "        cons_list = re.findall(r\"\"+re_pattern, cadidates)\n",
    "        if len(cons_list) == 8:\n",
    "            print(\"Answer:\", cons_list)\n",
    "            return True\n",
    "    return False"
   ]
  },
  {
   "cell_type": "code",
   "execution_count": 2,
   "metadata": {
    "collapsed": false
   },
   "outputs": [
    {
     "name": "stdout",
     "output_type": "stream",
     "text": [
      "('Answer:', ['121313', '222323', '323333', '424343', '525353', '626363', '828383', '929393'])\n",
      "CPU times: user 2.83 s, sys: 186 ms, total: 3.01 s\n",
      "Wall time: 3.02 s\n"
     ]
    },
    {
     "data": {
      "text/plain": [
       "(False, True)"
      ]
     },
     "execution_count": 2,
     "metadata": {},
     "output_type": "execute_result"
    }
   ],
   "source": [
    "%time find_prime_digit_replacements()"
   ]
  },
  {
   "cell_type": "markdown",
   "metadata": {
    "collapsed": true
   },
   "source": [
    "## Problem 52.\n",
    "\n",
    "125874를 2배 하면 251748이 되는데, 이 둘은 같은 숫자로 이루어져 있고 순서만 다릅니다.  \n",
    "\n",
    "2배, 3배, 4배, 5배, 6배의 결과도 같은 숫자로 이루어지는 가장 작은 수는 무엇입니까?  "
   ]
  },
  {
   "cell_type": "code",
   "execution_count": 3,
   "metadata": {
    "collapsed": false
   },
   "outputs": [],
   "source": [
    "def find_min_permuted_multiples():\n",
    "    is_found = False\n",
    "    result = 0\n",
    "    step = 1\n",
    "    while not is_found:\n",
    "        for i in range(10**step, (10**step)*2):\n",
    "            if is_permuted_multiple(i):\n",
    "                is_found = True\n",
    "                result = i\n",
    "                break\n",
    "        step += 1\n",
    "    return result\n",
    "            \n",
    "def is_permuted_multiple(num):\n",
    "    permute = \"\".join(sorted(str(num)))\n",
    "    for i in range(2, 6+1):\n",
    "        if permute != \"\".join(sorted(str(num*i))):\n",
    "            return False\n",
    "    return True"
   ]
  },
  {
   "cell_type": "code",
   "execution_count": 4,
   "metadata": {
    "collapsed": false
   },
   "outputs": [
    {
     "data": {
      "text/plain": [
       "142857"
      ]
     },
     "execution_count": 4,
     "metadata": {},
     "output_type": "execute_result"
    }
   ],
   "source": [
    "find_min_permuted_multiples()"
   ]
  },
  {
   "cell_type": "markdown",
   "metadata": {
    "collapsed": true
   },
   "source": [
    "## Problem 53.\n",
    "\n",
    "1,2,3,4,5 다섯 숫자 중에서 세 개를 고르는 것에는 다음과 같은 10가지 경우가 있습니다.\n",
    "\n",
    "123, 124, 125, 134, 135, 145, 234, 235, 245, 345\n",
    "\n",
    "조합론이라는 분야에서는 이것을 5C3 = 10 이라고 표시하며, 일반적인 식은 아래와 같습니다.\n",
    "\n",
    "nCr = n! / ( r!(n−r)! )\n",
    "\n",
    ",   단 r ≤ n 이고, n! = n×(n−1)×...×3×2×1 이며 0! = 1.\n",
    "이 값은 n = 23 에 이르러서야 23C10 = 1144066 으로 처음 1백만을 넘게 됩니다.\n",
    "\n",
    "1 ≤ n ≤ 100 일때 nCr의 값이 1백만을 넘는 경우는 모두 몇 번입니까? (단, 중복된 값은 각각 계산합니다)"
   ]
  },
  {
   "cell_type": "code",
   "execution_count": 5,
   "metadata": {
    "collapsed": false
   },
   "outputs": [],
   "source": [
    "def find_combinatoric_selections():\n",
    "    f = factorial_list(100)\n",
    "    result = 0\n",
    "    for n in range(100+1):\n",
    "        for r in range(1, n):\n",
    "            nCr = f[n]/f[r]/f[n-r]\n",
    "            if nCr >= 1000000:\n",
    "                result += 1\n",
    "    return result\n",
    "    \n",
    "def factorial_list(num):\n",
    "    f_list = [1]\n",
    "    f = 1\n",
    "    for i in range(1, num+1):\n",
    "        f *= i\n",
    "        f_list.append(f)\n",
    "    return f_list"
   ]
  },
  {
   "cell_type": "code",
   "execution_count": 6,
   "metadata": {
    "collapsed": false
   },
   "outputs": [
    {
     "name": "stdout",
     "output_type": "stream",
     "text": [
      "CPU times: user 3.59 ms, sys: 1.22 ms, total: 4.81 ms\n",
      "Wall time: 3.87 ms\n"
     ]
    },
    {
     "data": {
      "text/plain": [
       "4075"
      ]
     },
     "execution_count": 6,
     "metadata": {},
     "output_type": "execute_result"
    }
   ],
   "source": [
    "%time find_combinatoric_selections()"
   ]
  },
  {
   "cell_type": "markdown",
   "metadata": {
    "collapsed": true
   },
   "source": [
    "## Problem 54.\n",
    "\n",
    "포커라는 카드게임은 다섯 장으로 된 패의 높고 낮음에 따라 승부를 냅니다. (포커 규칙을 이미 아는 분이라면 규칙 설명 부분은 건너뛰셔도 좋습니다)\n",
    "\n",
    "카드 한 장은 아래와 같은 순서대로 값이 높아집니다.\n",
    "\n",
    "2, 3, 4, 5, 6, 7, 8, 9, 10, J, Q, K, A\n",
    "다섯 장으로 이루어진 패의 계급(세칭 \"족보\")은, 낮은 것부터 높은 순서로 아래와 같습니다.\n",
    "\n",
    "- High Card : 가장 높은 카드의 값으로 비교.\n",
    "- One Pair : 한 쌍이 같은 카드.\n",
    "- Two Pairs : 서로 다른 두 쌍이 같은 카드.\n",
    "- Three of a Kind : 세 장이 같은 카드.\n",
    "- Straight : 모든 카드가 연속된 숫자.\n",
    "- Flush : 모든 카드의 무늬가 같음.\n",
    "- Full House : 세 장이 같고, 또 한 쌍이 같음 (Three of a Kind + One Pair).\n",
    "- Four of a Kind : 네 장이 같은 카드.\n",
    "- Straight Flush : 모든 카드가 연속된 숫자이면서 무늬도 같음.\n",
    "- Royal Flush : 10, J, Q, K, A가 무늬도 같음.\n",
    "\n",
    "두 사람의 패가 같은 종류의 계급이라면, 계급을 구성하는 카드 중 높은 쪽을 쥔 사람이 이깁니다. 예를 들면 8 원페어는 5 원페어를 이깁니다.   \n",
    "계급을 이루는 카드 숫자까지 같으면 (예: 둘 다 Q 원페어), 다른 카드를 높은 순서대로 비교해서 승부를 정합니다.  \n",
    "\n",
    "텍스트파일 poker.txt 에는 두 선수가 벌인 1,000회의 승부가 저장되어 있습니다. (우클릭해서 다운로드 받으세요)  \n",
    "한 줄에는 10장의 카드가 공백으로 분리되어 들어있는데, 앞의 다섯 장은 1번 선수 것이고 뒤의 다섯 장은 2번 선수의 패입니다. 잘못되거나 중복된 데이터는 없으며, 무승부도 없습니다.  \n",
    "\n",
    "카드 숫자는 2, 3, ... , 9, T, J, Q, K, A 로 (숫자 10은 T로 표시),  \n",
    "무늬는 C (Club - ♣), D (Diamond - ♦), H (Heart - ♥), S (Spade - ♠) 로 표시되어 있습니다.  \n",
    "예를 들면 3C 3D 3S 9S 9D 의 경우 3 풀하우스가 됩니다.  \n",
    "이 데이터를 분석하고, 1번 선수가 이긴 횟수를 구하세요.  "
   ]
  },
  {
   "cell_type": "code",
   "execution_count": 7,
   "metadata": {
    "collapsed": false
   },
   "outputs": [
    {
     "name": "stdout",
     "output_type": "stream",
     "text": [
      "Project Euler 54 Solution = 376\n"
     ]
    }
   ],
   "source": [
    "from collections import Counter\n",
    "\n",
    "file_url = 'poker.txt'\n",
    "hands = (line.split() for line in open(file_url))\n",
    "\n",
    "values = {r:i for i,r in enumerate('23456789TJQKA', start=2)}\n",
    "straights = [(v, v-1, v-2, v-3, v-4) for v in range(14, 5, -1)] + [(14, 5, 4, 3, 2)]\n",
    "ranks = [(1,1,1,1,1),(2,1,1,1),(2,2,1),(3,1,1),(),(),(3,2),(4,1)]\n",
    "\n",
    "def hand_rank(hand):\n",
    "    score = zip(*sorted(((v, values[k]) for\n",
    "        k,v in Counter(x[0] for x in hand).items()), reverse=True))\n",
    "    score[0] = ranks.index(score[0])\n",
    "    if len(set(card[1] for card in hand)) == 1:\n",
    "        score[0] = 5  # flush\n",
    "    if score[1] in straights:\n",
    "        score[0] = 8 if score[0] == 5 else 4  # str./str. flush\n",
    "    return score\n",
    "\n",
    "print \"Project Euler 54 Solution =\", sum(hand_rank(hand[:5]) > hand_rank(hand[5:]) for hand in hands)"
   ]
  },
  {
   "cell_type": "markdown",
   "metadata": {
    "collapsed": true
   },
   "source": [
    "## Problem 55.\n",
    "\n",
    "47이란 숫자를 골라서 뒤집은 다음 다시 원래 수에 더하면, 47 + 74 = 121 과 같이 대칭수(palindrome)가 됩니다.  \n",
    "물론 모든 숫자가 이토록 쉽게 대칭수를 만들어내지는 않습니다. 예를 들어 349의 경우,  \n",
    "\n",
    "    349 + 943 = 1292  \n",
    "    1292 + 2921 = 4213  \n",
    "    4213 + 3124 = 7337  \n",
    "\n",
    "위에서 보는 것처럼 3번의 반복과정을 거쳐야 대칭수가 됩니다.  \n",
    "\n",
    "196과 같은 몇몇 숫자들은 이와 같은 과정을 아무리 반복해도 대칭수가 되지 않을 것이라고 추측되는데, 이런 수를 라이크렐 수 (Lychrel number) 라고 부릅니다. 아직 증명되지는 않았지만, 문제 풀이를 위해서 일단 라이크렐 수가 존재한다고 가정을 하겠습니다.  \n",
    "\n",
    "또한 1만 이하의 숫자들은, 50번 미만의 반복으로 대칭수가 되든지 라이크렐 수이든지 둘 중 하나라고 합니다.  \n",
    "1만을 넘어서면 10677에 이르렀을 때 비로소 53번의 반복으로 4668731596684224866951378664 라는 28자리의 대칭수가 만들어집니다.  \n",
    "\n",
    "그러면 1만 이하에는 몇 개의 라이크렐 수가 존재합니까?"
   ]
  },
  {
   "cell_type": "code",
   "execution_count": 8,
   "metadata": {
    "collapsed": true
   },
   "outputs": [],
   "source": [
    "def find_lychral_numbers():\n",
    "    result = 0\n",
    "    lycheral_set = set()\n",
    "    for i in range(10, 10000):\n",
    "        num = i\n",
    "        num_list = [num]\n",
    "        is_lychral = True\n",
    "        for j in range(50-1):\n",
    "            num = num + int(\"\".join(reversed(str(num))))\n",
    "            num_list.append(num)\n",
    "            \n",
    "            if num in lycheral_set:\n",
    "                is_lychral = True\n",
    "                break\n",
    "            if is_palindrome(num):\n",
    "                is_lychral = False\n",
    "                break\n",
    "                \n",
    "        if is_lychral:\n",
    "            result += 1\n",
    "            for n in num_list:\n",
    "                lycheral_set.add(n)\n",
    "    return result\n",
    "                \n",
    "def is_palindrome(num):\n",
    "    num = str(num)\n",
    "    num_length = len(num)\n",
    "    for i in range(int(num_length/2)):\n",
    "        if num[i] != num[(num_length-1) - i]:\n",
    "            return False\n",
    "    return True"
   ]
  },
  {
   "cell_type": "code",
   "execution_count": 9,
   "metadata": {
    "collapsed": false
   },
   "outputs": [
    {
     "name": "stdout",
     "output_type": "stream",
     "text": [
      "CPU times: user 124 ms, sys: 12.8 ms, total: 136 ms\n",
      "Wall time: 127 ms\n"
     ]
    },
    {
     "data": {
      "text/plain": [
       "249"
      ]
     },
     "execution_count": 9,
     "metadata": {},
     "output_type": "execute_result"
    }
   ],
   "source": [
    "%time find_lychral_numbers()"
   ]
  },
  {
   "cell_type": "markdown",
   "metadata": {
    "collapsed": true
   },
   "source": [
    "## Problem 56.\n",
    "\n",
    "구골(googol)은 10^100을 일컫는 말로, 1 뒤에 0이 백 개나 붙는 어마어마한 수입니다.  \n",
    "100^100은 1 뒤에 0이 2백 개가 붙으니 상상을 초월할만큼 크다 하겠습니다.  \n",
    "하지만 이 숫자들이 얼마나 크건간에, 각 자릿수를 모두 합하면 둘 다 겨우 1밖에 되지 않습니다.  \n",
    "\n",
    "a, b < 100 인 자연수 ab 에 대해서, 자릿수의 합이 최대인 경우 그 값은 얼마입니까?  "
   ]
  },
  {
   "cell_type": "code",
   "execution_count": 10,
   "metadata": {
    "collapsed": true
   },
   "outputs": [],
   "source": [
    "def find_powerful_digit_sum():\n",
    "    max_sum = 0\n",
    "    for i in range(1, 100):\n",
    "        for j in range(1, 100):\n",
    "            d_sum = digit_sum(i ** j)\n",
    "            if d_sum > max_sum:\n",
    "                max_sum = d_sum\n",
    "    return max_sum\n",
    "            \n",
    "def digit_sum(num):\n",
    "    result = 0\n",
    "    for n in str(num):\n",
    "        result += int(n)\n",
    "    return result"
   ]
  },
  {
   "cell_type": "code",
   "execution_count": 11,
   "metadata": {
    "collapsed": false
   },
   "outputs": [
    {
     "name": "stdout",
     "output_type": "stream",
     "text": [
      "CPU times: user 470 ms, sys: 63 ms, total: 533 ms\n",
      "Wall time: 487 ms\n"
     ]
    },
    {
     "data": {
      "text/plain": [
       "972"
      ]
     },
     "execution_count": 11,
     "metadata": {},
     "output_type": "execute_result"
    }
   ],
   "source": [
    "%time find_powerful_digit_sum()"
   ]
  },
  {
   "cell_type": "markdown",
   "metadata": {
    "collapsed": true
   },
   "source": [
    "## Problem 57.\n",
    "\n",
    "제곱근 2는 다음과 같은 연분수의 형태로 나타낼 수 있습니다.\n",
    "\n",
    "   √ 2 = 1 + 1/(2 + 1/(2 + 1/(2 + ... ))) = 1.414213...  \n",
    "\n",
    "위 식을 처음부터 한 단계씩 확장해 보면 아래와 같습니다.\n",
    "\n",
    "    1 + 1/2 = 3/2 = 1.5\n",
    "    1 + 1/(2 + 1/2) = 7/5 = 1.4\n",
    "    1 + 1/(2 + 1/(2 + 1/2)) = 17/12 = 1.41666...\n",
    "    1 + 1/(2 + 1/(2 + 1/(2 + 1/2))) = 41/29 = 1.41379...\n",
    "    \n",
    "그 다음은 99/70, 239/169, 577/408 로 확장이 되다가, 여덟번째인 1393/985 에 이르면 처음으로 분자의 자릿수가 분모의 자릿수를 넘어섭니다.\n",
    "\n",
    "처음부터 1천번째 단계까지 확장하는 중에, 분자의 자릿수가 분모보다 많아지는 경우는 몇 번이나 됩니까?"
   ]
  },
  {
   "cell_type": "code",
   "execution_count": 12,
   "metadata": {
    "collapsed": true
   },
   "outputs": [],
   "source": [
    "def find_square_root_convergents():\n",
    "    result = 0\n",
    "    n = 3; d = 2\n",
    "    for i in range(1000):\n",
    "        n, d = next(n, d)\n",
    "        if len(str(n)) > len(str(d)):\n",
    "            result += 1\n",
    "    return result\n",
    "        \n",
    "def next(n, d):\n",
    "    numerator = n + 2*d\n",
    "    denominator = n + d\n",
    "    return numerator, denominator"
   ]
  },
  {
   "cell_type": "code",
   "execution_count": 13,
   "metadata": {
    "collapsed": false
   },
   "outputs": [
    {
     "name": "stdout",
     "output_type": "stream",
     "text": [
      "CPU times: user 3.21 ms, sys: 522 µs, total: 3.73 ms\n",
      "Wall time: 3.36 ms\n"
     ]
    },
    {
     "data": {
      "text/plain": [
       "153"
      ]
     },
     "execution_count": 13,
     "metadata": {},
     "output_type": "execute_result"
    }
   ],
   "source": [
    "%time find_square_root_convergents()"
   ]
  },
  {
   "cell_type": "markdown",
   "metadata": {
    "collapsed": true
   },
   "source": [
    "## Problem 58.\n",
    "\n",
    "숫자를 1부터 시작해서 하나씩 늘려가며 아래와 같이 시계반대방향으로 감아가면 한 변의 크기가 7인 정사각형 소용돌이가 만들어집니다.\n",
    "\n",
    "        37 36 35 34 33 32 31\n",
    "        38 17 16 15 14 13 30\n",
    "        39 18  5  4  3 12 29\n",
    "        40 19  6  1  2 11 28\n",
    "        41 20  7  8  9 10 27\n",
    "        42 21 22 23 24 25 26\n",
    "        43 44 45 46 47 48 49\n",
    "\n",
    "우하단 대각선쪽으로 홀수 제곱수(9, 25, 49)들이 늘어서 있는 것이 눈에 띕니다만, 더 흥미로운 사실은 양 대각선상에 놓인 13개의 숫자 중 8개가 소수라는 것입니다. 그 비율은 대략 8/13 ≈ 62% 정도가 됩니다.\n",
    "\n",
    "이런 식으로 계속 소용돌이를 만들어갈 때, 양 대각선상의 소수 비율이 처음으로 10% 미만이 되는 것은 언제입니까? 정사각형 한 변의 크기로 답하세요."
   ]
  },
  {
   "cell_type": "code",
   "execution_count": 14,
   "metadata": {
    "collapsed": false
   },
   "outputs": [],
   "source": [
    "def find_spiral_primes():\n",
    "    prime_list = sieve_of_era(50000)\n",
    "    start_num = 1; step = 1\n",
    "    ratio = 1\n",
    "    prime_count = 0\n",
    "    while ratio > 0.1:\n",
    "        for i in range(3):\n",
    "            start_num += step*2\n",
    "            if is_prime(start_num, prime_list):\n",
    "                prime_count += 1\n",
    "        start_num += step*2\n",
    "        ratio = prime_count/float(total_spiral_count(step))\n",
    "        \n",
    "        if step%1000 == 0:\n",
    "            print(step, prime_count, ratio)\n",
    "        \n",
    "        step += 1\n",
    "    return 2*(step-1) + 1\n",
    "\n",
    "def sieve_of_era(num):\n",
    "    sieve_list = [True] * num\n",
    "    start_num = 2\n",
    "    ##Sieve of Eratosthenes\n",
    "    for i in range(start_num, int(num**0.5)+1):\n",
    "        if sieve_list[i]:\n",
    "            sieve_list[i*i::i] = [False] * len(sieve_list[i*i::i])\n",
    "    return [i for i in range(2, num) if sieve_list[i]]\n",
    "    \n",
    "def is_prime(number, prime_list):\n",
    "    for prime in prime_list:\n",
    "        if number % prime == 0:\n",
    "            return False\n",
    "        if prime ** 2 > number:\n",
    "            return True\n",
    "    \n",
    "def total_spiral_count(step):\n",
    "    return 1 + 4*step"
   ]
  },
  {
   "cell_type": "code",
   "execution_count": 15,
   "metadata": {
    "collapsed": false
   },
   "outputs": [
    {
     "name": "stdout",
     "output_type": "stream",
     "text": [
      "(1000, 554, 0.13846538365408648)\n",
      "(2000, 1024, 0.12798400199975002)\n",
      "(3000, 1458, 0.12148987584367969)\n",
      "(4000, 1848, 0.11549278170114367)\n",
      "(5000, 2250, 0.11249437528123594)\n",
      "(6000, 2646, 0.11024540644139827)\n",
      "(7000, 2996, 0.10699617870790329)\n",
      "(8000, 3390, 0.10593418955657635)\n",
      "(9000, 3760, 0.10444154329046415)\n",
      "(10000, 4138, 0.10344741381465464)\n",
      "(11000, 4507, 0.10242949023885821)\n",
      "(12000, 4855, 0.10114372617237141)\n",
      "(13000, 5209, 0.10017115055479703)\n",
      "CPU times: user 1.2 s, sys: 11.7 ms, total: 1.21 s\n",
      "Wall time: 1.21 s\n"
     ]
    },
    {
     "data": {
      "text/plain": [
       "26241"
      ]
     },
     "execution_count": 15,
     "metadata": {},
     "output_type": "execute_result"
    }
   ],
   "source": [
    "%time find_spiral_primes()"
   ]
  },
  {
   "cell_type": "markdown",
   "metadata": {},
   "source": [
    "## Problem 59.\n",
    "\n",
    "컴퓨터상의 모든 문자들은 유일한 코드값에 대응되는데, 보통 ASCII 표준이 널리 쓰입니다. 예를 들면 대문자 A는 65, 별표(*)는 42, 소문자 k는 107라는 값을 가집니다.\n",
    "\n",
    "현대적인 암호화 기법 중에, 텍스트 파일의 내용을 ASCII 코드로 바꾸고 각 바이트를 비밀키의 값으로 XOR 시키는 것이 있습니다. 이 방법의 장점은 암호화와 복호화에 동일한 키를 사용할 수 있다는 것입니다. 예를 들어 65 XOR 42 = 107 이고, 107 XOR 42 = 65 가 됩니다.\n",
    "\n",
    "암호문을 절대 깰 수 없도록 하려면, 암호화할 문장의 길이와 같은 무작위의 비밀키를 만들면 됩니다. 암호문과 비밀키는 따로따로 보관해둬야 하고, 그 반쪽짜리 정보 두 개를 함께 확보하지 않는 한 해독은 불가능합니다.\n",
    "\n",
    "하지만 이 방법은 대부분의 경우 실용적이지 못하므로, 원문보다 짧은 비밀키를 사용하게 됩니다. 이런 경우 비밀키는 전체 메시지에 대해서 반복적으로 돌아가며 적용됩니다. 이 때 키의 길이는 보안상 충분할 정도로 길어야 하지만 또한 쉽게 기억할 수 있을 정도로 짧아야 한다는 미묘한 균형이 요구됩니다.\n",
    "\n",
    "이번 문제를 위해서 준비된 암호화 키는 단 3개의 영어 소문자이고, [cipher1.txt](http://euler.synap.co.kr/files/cipher1.txt) 파일에 암호화된 ASCII 코드값이 들어있습니다. 원래의 메시지는 평범한 영어 문장임을 힌트로 삼아서 암호문을 해독하고, 원문에 포함된 모든 ASCII 코드 값의 총합을 구하세요."
   ]
  },
  {
   "cell_type": "code",
   "execution_count": 16,
   "metadata": {
    "collapsed": false
   },
   "outputs": [
    {
     "name": "stdout",
     "output_type": "stream",
     "text": [
      "107\n",
      "65\n"
     ]
    }
   ],
   "source": [
    "print(65^42) # XOR\n",
    "print(107^42)"
   ]
  },
  {
   "cell_type": "code",
   "execution_count": 17,
   "metadata": {
    "collapsed": false
   },
   "outputs": [],
   "source": [
    "def find_XOR_decryption():\n",
    "    ascii_set = set(list(range(ord('A'), ord('Z')+1)) +\n",
    "                    list(range(ord('a'), ord('z')+1)) +\n",
    "                    [ord(' '), ord('.')])\n",
    "    encrypted_list = open('cipher1.txt').read().split(',')\n",
    "    encrypted_list = list(map(lambda x: int(x), encrypted_list))\n",
    "    key_list = []\n",
    "    \n",
    "    for i in range(3):\n",
    "        max_count = 0\n",
    "        key = 0\n",
    "        for candidate_key in range(ord('a'), ord('z')+1):       \n",
    "            xor_count = len([encrypt^candidate_key for encrypt in encrypted_list[i::3] \n",
    "                            if encrypt^candidate_key in ascii_set])\n",
    "            if xor_count > max_count:\n",
    "                max_count = xor_count\n",
    "                key = candidate_key\n",
    "        key_list.append(key)\n",
    "        \n",
    "    print(\"Key : \", list(map(lambda x: chr(x), key_list)))\n",
    "    decrypted_list = [v^key_list[k%3] for k,v in enumerate(encrypted_list)]\n",
    "    return sum(decrypted_list)"
   ]
  },
  {
   "cell_type": "code",
   "execution_count": 18,
   "metadata": {
    "collapsed": false
   },
   "outputs": [
    {
     "name": "stdout",
     "output_type": "stream",
     "text": [
      "('Key : ', ['g', 'o', 'd'])\n",
      "CPU times: user 5.05 ms, sys: 694 µs, total: 5.75 ms\n",
      "Wall time: 6.15 ms\n"
     ]
    },
    {
     "data": {
      "text/plain": [
       "107359"
      ]
     },
     "execution_count": 18,
     "metadata": {},
     "output_type": "execute_result"
    }
   ],
   "source": [
    "%time find_XOR_decryption()"
   ]
  },
  {
   "cell_type": "markdown",
   "metadata": {},
   "source": [
    "## Problem 60.\n",
    "\n",
    "네 개의 소수 3, 7, 109, 673은 상당히 특이한 성질이 있습니다. 넷 중에 아무것이나 두 개를 골라서 어떤 쪽으로 이어붙이던지 그 결과도 소수가 됩니다. 예를 들어 7과 109를 고르면 7109와 1097 또한 소수입니다.\n",
    "3, 7, 109, 673는 이런 성질을 가진 네 소수 중에서 그 합이 792로 가장 작습니다,\n",
    "\n",
    "다섯 소수 중에 어떤 두 개를 골라 이어붙여도 소수가 되는 수들을 찾아서, 그 합의 최소값을 구하세요."
   ]
  },
  {
   "cell_type": "code",
   "execution_count": 19,
   "metadata": {
    "collapsed": false
   },
   "outputs": [],
   "source": [
    "def sieve_of_era(num):\n",
    "    sieve_list = [True] * num\n",
    "    start_num = 2\n",
    "    ##Sieve of Eratosthenes\n",
    "    for i in range(start_num, int(num**0.5)+1):\n",
    "        if sieve_list[i]:\n",
    "            sieve_list[i*i::i] = [False] * len(sieve_list[i*i::i])\n",
    "    return [i for i in range(2, num) if sieve_list[i]]\n",
    "        \n",
    "def make_two_pair():\n",
    "    pair_list = []\n",
    "    prime_length = len(prime_list)\n",
    "    for i in range(prime_length-1):\n",
    "        for j in range(i+1, prime_length):\n",
    "            if is_pair_set(prime_list[i], prime_list[j]):\n",
    "                pair_list.append([prime_list[i], prime_list[j]])\n",
    "    return pair_list\n",
    "\n",
    "def next_pair(pair_list):\n",
    "    next_list = []\n",
    "    for prime in prime_list:\n",
    "        for pairs in pair_list:\n",
    "            if prime in pairs or prime < pairs[-1]:\n",
    "                continue\n",
    "            if all([is_pair_set(prime, pair) for pair in pairs]):\n",
    "                next_list.append(pairs + [prime])\n",
    "    return next_list\n",
    "\n",
    "def is_pair_set(num1, num2):\n",
    "    num1 = str(num1); num2 = str(num2)\n",
    "    if ((int(num1 + num2) not in prime_set) or \n",
    "        (int(num2 + num1) not in prime_set)):\n",
    "        return False\n",
    "    return True"
   ]
  },
  {
   "cell_type": "code",
   "execution_count": 21,
   "metadata": {
    "collapsed": false
   },
   "outputs": [
    {
     "name": "stdout",
     "output_type": "stream",
     "text": [
      "CPU times: user 43.2 s, sys: 125 ms, total: 43.3 s\n",
      "Wall time: 43.4 s\n"
     ]
    },
    {
     "data": {
      "text/plain": [
       "[[13, 5197, 5701, 6733, 8389]]"
      ]
     },
     "execution_count": 21,
     "metadata": {},
     "output_type": "execute_result"
    }
   ],
   "source": [
    "prime_list = sieve_of_era(10000)\n",
    "prime_set = set(sieve_of_era(100000000))\n",
    "\n",
    "%time next_pair(next_pair(next_pair(make_two_pair())))"
   ]
  },
  {
   "cell_type": "code",
   "execution_count": 22,
   "metadata": {
    "collapsed": false
   },
   "outputs": [
    {
     "data": {
      "text/plain": [
       "26033"
      ]
     },
     "execution_count": 22,
     "metadata": {},
     "output_type": "execute_result"
    }
   ],
   "source": [
    "13 + 5197 + 5701 + 6733 + 8389"
   ]
  },
  {
   "cell_type": "code",
   "execution_count": null,
   "metadata": {
    "collapsed": true
   },
   "outputs": [],
   "source": []
  }
 ],
 "metadata": {
  "kernelspec": {
   "display_name": "Python 2",
   "language": "python",
   "name": "python2"
  },
  "language_info": {
   "codemirror_mode": {
    "name": "ipython",
    "version": 2
   },
   "file_extension": ".py",
   "mimetype": "text/x-python",
   "name": "python",
   "nbconvert_exporter": "python",
   "pygments_lexer": "ipython2",
   "version": "2.7.10"
  }
 },
 "nbformat": 4,
 "nbformat_minor": 0
}
