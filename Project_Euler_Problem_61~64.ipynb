{
 "cells": [
  {
   "cell_type": "markdown",
   "metadata": {
    "collapsed": true
   },
   "source": [
    "## Problem 61\n",
    "\n",
    "삼각수, 사각수, 오각수 같은 다각수들은 아래의 공식으로 만들 수 있습니다.\n",
    "\n",
    "삼각수\tP3,n = n(n+1)/2\t1, 3, 6, 10, 15, ...  \n",
    "사각수\tP4,n = n^2\t1, 4, 9, 16, 25, ...  \n",
    "오각수\tP5,n = n(3n−1)/2\t1, 5, 12, 22, 35, ...  \n",
    "육각수\tP6,n = n(2n−1)\t1, 6, 15, 28, 45, ...  \n",
    "칠각수\tP7,n = n(5n−3)/2\t1, 7, 18, 34, 55, ...  \n",
    "팔각수\tP8,n = n(3n−2)\t1, 8, 21, 40, 65, ...  \n",
    "그런데 4자리 숫자 8128, 2882, 8281 (순서대로) 에는 세 가지의 재미있는 성질이 있습니다.\n",
    "\n",
    "1. 각 숫자들은 서로 꼬리를 물고 순환됩니다. 각 숫자의 뒤쪽 두 자리는 다음 숫자의 앞쪽 두 자리가 되는 식입니다.\n",
    "2. 각 숫자는 서로 다른 다각수인데, 여기서는 삼각수 (P3,127=8128), 사각수 (P4,91=8281), 오각수 (P5,44=2882)가 대응됩니다.\n",
    "3. 이런 성질을 갖는 4자리의 숫자 세 개는 이 숫자들이 유일합니다.\n",
    "\n",
    "위와 같이 순환되면서 서로 다른 다각수(삼각수 ~ 팔각수)이기도 한 4자리 숫자 여섯 개의 유일한 순서쌍을 찾고, 그 합을 구하세요."
   ]
  },
  {
   "cell_type": "code",
   "execution_count": 1,
   "metadata": {
    "collapsed": false
   },
   "outputs": [],
   "source": [
    "def find_cyclical_figurate_numbers():\n",
    "    poli_3_list = digit_4th_poligonal(lambda n: (n+1)*n / 2) \n",
    "    poli_4_list = digit_4th_poligonal(lambda n: n**2) \n",
    "    poli_5_list = digit_4th_poligonal(lambda n: (3*n-1)*n / 2) \n",
    "    poli_6_list = digit_4th_poligonal(lambda n: (2*n-1)*n) \n",
    "    poli_7_list = digit_4th_poligonal(lambda n: (5*n-3)*n / 2) \n",
    "    poli_8_list = digit_4th_poligonal(lambda n: (3*n-2)*n) \n",
    "    \n",
    "    p_list = [poli_8_list, poli_7_list, poli_6_list, \n",
    "             poli_5_list, poli_4_list, poli_3_list]\n",
    "    \n",
    "    result = []\n",
    "    for permutation in permutation_generator(list(range(6))):\n",
    "        copy_p_list = []\n",
    "        for p in permutation:\n",
    "            copy_p_list.append(p_list[int(p)])\n",
    "            \n",
    "        prev = 0\n",
    "        now = sum(map(lambda x: len(x), copy_p_list))\n",
    "        last_index = len(p_list)-1\n",
    "            \n",
    "        while prev != now:\n",
    "            copy_p_list[0] = list(filter(lambda x: is_cycle_front(x, copy_p_list[last_index]), copy_p_list[0]))\n",
    "            for i in range(len(copy_p_list)-1):\n",
    "                copy_p_list[i] = list(filter(lambda x: is_cycle_front(x, copy_p_list[i-1]), copy_p_list[i]))\n",
    "                copy_p_list[i] = list(filter(lambda x: is_cycle_back(x, copy_p_list[i+1]), copy_p_list[i]))\n",
    "            copy_p_list[last_index] = list(filter(lambda x: is_cycle_back(x, copy_p_list[0]), copy_p_list[last_index]))\n",
    "\n",
    "            prev = now\n",
    "            now = sum(map(lambda x: len(x), copy_p_list))\n",
    "            \n",
    "        if now == 6:\n",
    "            result = copy_p_list\n",
    "            print(result)\n",
    "            break\n",
    "        \n",
    "    return sum(map(lambda x: x[0], result))\n",
    "    \n",
    "def digit_4th_poligonal(poli_f):\n",
    "    poli_list = []\n",
    "    step = 1\n",
    "    poli_n = poli_f(step)\n",
    "    while poli_n < 10000:\n",
    "        if poli_n >= 1000:\n",
    "            poli_list.append(poli_n)\n",
    "        step += 1\n",
    "        poli_n = poli_f(step)\n",
    "    return poli_list\n",
    "\n",
    "def is_cycle_back(num, p_list):\n",
    "    for p in p_list:\n",
    "        if str(num)[2:] == str(p)[:2]:\n",
    "            return True\n",
    "    return False\n",
    "\n",
    "def is_cycle_front(num, p_list):\n",
    "    for p in p_list:\n",
    "        if str(num)[:2] == str(p)[2:]:\n",
    "            return True\n",
    "    return False\n",
    "\n",
    "def permutation_generator(items):\n",
    "    length = len(items)\n",
    "    def inner(ix=[]):\n",
    "        do_yield = len(ix) == length - 1\n",
    "        for i in range(0, length):\n",
    "            if i in ix: #avoid duplicates\n",
    "                continue\n",
    "            if do_yield:\n",
    "                yield tuple([items[y] for y in ix + [i]])\n",
    "            else:\n",
    "                for p in inner(ix + [i]):\n",
    "                    join_p = ''.join(map(lambda x:str(x), p))\n",
    "                    yield join_p\n",
    "    return inner()"
   ]
  },
  {
   "cell_type": "code",
   "execution_count": 2,
   "metadata": {
    "collapsed": false
   },
   "outputs": [
    {
     "name": "stdout",
     "output_type": "stream",
     "text": [
      "[[1281], [8128], [2882], [8256], [5625], [2512]]\n",
      "CPU times: user 82.3 ms, sys: 6.08 ms, total: 88.4 ms\n",
      "Wall time: 84 ms\n"
     ]
    },
    {
     "data": {
      "text/plain": [
       "28684"
      ]
     },
     "execution_count": 2,
     "metadata": {},
     "output_type": "execute_result"
    }
   ],
   "source": [
    "%time find_cyclical_figurate_numbers()"
   ]
  },
  {
   "cell_type": "markdown",
   "metadata": {},
   "source": [
    "## Problem 62.\n",
    "\n",
    "세제곱수인 41063625 (=345^3) 로 순열을 만들어보면,  \n",
    "그 중에서 56623104 (=384^3)와 66430125 (=405^3)가 또 세제곱수입니다.\n",
    "실제 41063625은, 자릿수로 만든 순열 중에서 3개가 세제곱수인 가장 작은 수입니다.\n",
    "\n",
    "그러면 자릿수로 만든 순열 중에서 5개가 세제곱수인 가장 작은 숫자는 무엇입니까?"
   ]
  },
  {
   "cell_type": "code",
   "execution_count": 93,
   "metadata": {
    "collapsed": false
   },
   "outputs": [],
   "source": [
    "from collections import Counter\n",
    "\n",
    "def find_cubic_permutations():\n",
    "    cubic_list = list(map(lambda x: x**3, range(5000, 10000)))\n",
    "    cc_list = list(map(lambda x: Counter(str(x)), cubic_list))\n",
    "    result = 0\n",
    "    for i in range(len(cc_list)):\n",
    "        p_count = 0\n",
    "        for j in range(i, len(cc_list)):\n",
    "            cc1 = cc_list[i]; cc2 = cc_list[j]\n",
    "            if cc1 == cc2:\n",
    "                p_count +=1\n",
    "        if p_count == 5:\n",
    "            result = cubic_list[i]\n",
    "            break\n",
    "    return result"
   ]
  },
  {
   "cell_type": "code",
   "execution_count": 94,
   "metadata": {
    "collapsed": false
   },
   "outputs": [
    {
     "name": "stdout",
     "output_type": "stream",
     "text": [
      "CPU times: user 65.5 ms, sys: 3.59 ms, total: 69.1 ms\n",
      "Wall time: 67.2 ms\n"
     ]
    },
    {
     "data": {
      "text/plain": [
       "127035954683"
      ]
     },
     "execution_count": 94,
     "metadata": {},
     "output_type": "execute_result"
    }
   ],
   "source": [
    "%time find_cubic_permutations()"
   ]
  },
  {
   "cell_type": "markdown",
   "metadata": {
    "collapsed": true
   },
   "source": [
    "## Problem 63.\n",
    "\n",
    "다섯 자리 숫자인 16807은 7^5으로 5제곱수입니다. 또, 아홉 자리 숫자인 134217728은 8^9으로 9제곱수입니다.\n",
    "\n",
    "n자리 숫자이면서 n제곱수도 되는 양의 정수는 모두 몇 개나 있습니까?"
   ]
  },
  {
   "cell_type": "code",
   "execution_count": 14,
   "metadata": {
    "collapsed": false
   },
   "outputs": [],
   "source": [
    "def find_powerful_digit_counts():\n",
    "    threshold = 3\n",
    "    limit = 500\n",
    "    result = 0\n",
    "    for i in range(1, limit):\n",
    "        for n in range(1, limit):\n",
    "            num = str(i ** n)\n",
    "            if len(num) == n:\n",
    "                result += 1\n",
    "            elif abs(len(num) - n) > threshold:\n",
    "                break\n",
    "    return result"
   ]
  },
  {
   "cell_type": "code",
   "execution_count": 16,
   "metadata": {
    "collapsed": false
   },
   "outputs": [
    {
     "name": "stdout",
     "output_type": "stream",
     "text": [
      "CPU times: user 5.22 ms, sys: 847 µs, total: 6.07 ms\n",
      "Wall time: 5.44 ms\n"
     ]
    },
    {
     "data": {
      "text/plain": [
       "49"
      ]
     },
     "execution_count": 16,
     "metadata": {},
     "output_type": "execute_result"
    }
   ],
   "source": [
    "%time find_powerful_digit_counts()"
   ]
  },
  {
   "cell_type": "markdown",
   "metadata": {
    "collapsed": true
   },
   "source": [
    "## Problem 64.\n",
    "\n",
    "모든 제곱근은 아래와 같이 연분수로 나타낼 수 있는데, 이 때 반복되는 부분이 나타납니다.\n",
    "\n",
    "√N = a0 +\t\n",
    "1\n",
    " \ta1 +\t\n",
    "1\n",
    " \t \ta2 +\t\n",
    "1\n",
    " \t \t \ta3 + ...\n",
    "예를 들어서 √23을 풀어 보면,\n",
    "\n",
    "![image](http://euler.synap.co.kr/images/64-1.png)\n",
    "\n",
    "\n",
    "같은 식으로 계속하면 아래와 같은 모양이 됩니다.\n",
    "\n",
    "√23 = 4 +\t\n",
    "1\n",
    " \t1 +\t\n",
    "1\n",
    " \t \t3 +\t\n",
    "1\n",
    " \t \t \t1 +\t\n",
    "1\n",
    " \t \t \t \t8 + ...\n",
    "이 과정을 상세히 보면 다음과 같습니다.\n",
    "\n",
    "![image](http://euler.synap.co.kr/images/64-2.png)\n",
    "\n",
    "위에서 보듯이 4라는 정수부 다음에 1, 3, 1, 8 이라는 숫자가 무한히 반복되는데, 이것을 √23 = [4;(1,3,1,8)] 과 같이 표시하기로 합니다.\n",
    "\n",
    "이런 식으로 해서 무리수인 제곱근들을 연분수로 나타내면 다음과 같이 됩니다.\n",
    "\n",
    "√2\t=\t[1;(2)], 주기=1  \n",
    "√3\t=\t[1;(1,2)], 주기=2  \n",
    "√5\t=\t[2;(4)], 주기=1  \n",
    "√6\t=\t[2;(2,4)], 주기=2  \n",
    "√7\t=\t[2;(1,1,1,4)], 주기=4  \n",
    "√8\t=\t[2;(1,4)], 주기=2  \n",
    "√10\t=\t[3;(6)], 주기=1  \n",
    "√11\t=\t[3;(3,6)], 주기=2  \n",
    "√12\t=\t[3;(2,6)], 주기=2  \n",
    "√13\t=\t[3;(1,1,1,1,6)], 주기=5  \n",
    "\n",
    "반복 주기가 홀수인 경우는 N ≤ 13 일 때 모두 4번 있음을 볼 수 있습니다.\n",
    "\n",
    "그러면 N ≤ 10000 일 때 반복 주기가 홀수인 경우는 모두 몇 번이나 있습니까?"
   ]
  },
  {
   "cell_type": "code",
   "execution_count": 4,
   "metadata": {
    "collapsed": true
   },
   "outputs": [],
   "source": [
    "#https://en.wikipedia.org/wiki/Methods_of_computing_square_roots#Algorithm 참고\n",
    "\n",
    "def find_odd_period_square_roots():\n",
    "    result = 0\n",
    "    for n in range(2, 10000+1):\n",
    "        sqrt_n = n**0.5\n",
    "        if sqrt_n == int(sqrt_n):\n",
    "            continue\n",
    "            \n",
    "        peroid = 0\n",
    "        m = 0; d = 1; a = int(sqrt_n)\n",
    "        a0 = a\n",
    "        while a != a0*2:\n",
    "            peroid += 1\n",
    "            m, d, a = next(n, m, d, a)\n",
    "            \n",
    "        if peroid % 2 == 1:\n",
    "            result += 1\n",
    "    return result\n",
    "        \n",
    "def next(n, m, d, a):\n",
    "    next_m = d*a - m\n",
    "    next_d = (n - (next_m**2)) / d\n",
    "    next_a = int(((n**0.5) + next_m) / next_d)\n",
    "    return next_m, next_d, next_a"
   ]
  },
  {
   "cell_type": "code",
   "execution_count": 6,
   "metadata": {
    "collapsed": false
   },
   "outputs": [
    {
     "name": "stdout",
     "output_type": "stream",
     "text": [
      "CPU times: user 270 ms, sys: 2.58 ms, total: 273 ms\n",
      "Wall time: 272 ms\n"
     ]
    },
    {
     "data": {
      "text/plain": [
       "1322"
      ]
     },
     "execution_count": 6,
     "metadata": {},
     "output_type": "execute_result"
    }
   ],
   "source": [
    "%time find_odd_period_square_roots()"
   ]
  },
  {
   "cell_type": "code",
   "execution_count": null,
   "metadata": {
    "collapsed": true
   },
   "outputs": [],
   "source": []
  }
 ],
 "metadata": {
  "kernelspec": {
   "display_name": "DataScience",
   "language": "python",
   "name": "datascience"
  },
  "language_info": {
   "codemirror_mode": {
    "name": "ipython",
    "version": 3
   },
   "file_extension": ".py",
   "mimetype": "text/x-python",
   "name": "python",
   "nbconvert_exporter": "python",
   "pygments_lexer": "ipython3",
   "version": "3.5.1"
  }
 },
 "nbformat": 4,
 "nbformat_minor": 0
}
