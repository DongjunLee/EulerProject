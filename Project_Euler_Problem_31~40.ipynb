{
 "cells": [
  {
   "cell_type": "markdown",
   "metadata": {
    "collapsed": true
   },
   "source": [
    "## Problem 31.\n",
    "\n",
    "영국의 화폐 단위는 파운드(£)와 펜스(p)이고, 동전의 종류는 아래와 같습니다.\n",
    "\n",
    "1p, 2p, 5p, 10p, 20p, 50p, £1 (100p), £2 (200p)  \n",
    "이 동전들을 가지고 2파운드를 만드는 방법은 다양할 것입니다. 예를 하나 들면 이렇습니다.  \n",
    "\n",
    "1×£1 + 1×50p + 2×20p + 1×5p + 1×2p + 3×1p  \n",
    "2파운드를 만드는 서로 다른 방법은 모두 몇가지나 있습니까?  "
   ]
  },
  {
   "cell_type": "code",
   "execution_count": null,
   "metadata": {
    "collapsed": false
   },
   "outputs": [],
   "source": [
    "coin_list = [1, 2, 5, 10, 20, 50, 100, 200]\n",
    "dest_coin_list = []\n",
    "\n",
    "# Brute-Force - Too Slow & All Case\n",
    "def find_coin_sum_count(curr_coin_list, dest_coin):\n",
    "    sum_of_coin = sum(curr_coin_list)\n",
    "    count = 0\n",
    "    if sum_of_coin > dest_coin:\n",
    "        return 0\n",
    "    elif sum_of_coin == dest_coin:\n",
    "        coin_count = len(curr_coin_list)\n",
    "        if coin_count not in dest_coin_list:\n",
    "            dest_coin_list.append(coin_count)\n",
    "            return 1\n",
    "        else:\n",
    "            return 0\n",
    "    else:\n",
    "        for c in coin_list:\n",
    "            if sum_of_coin + c <= dest_coin:\n",
    "                count += find_coin_sum_count(curr_coin_list + [c], dest_coin)\n",
    "    return count\n",
    "\n",
    "# Dynamic Programming\n",
    "# 각 코인으로 하나씩 채우기.\n",
    "# 참고 : http://www.mathblog.dk/project-euler-31-combinations-english-currency-denominations/\n",
    "\n",
    "def find_coin_sum_count2(dest_coin):\n",
    "    dp = [1 for i in range(dest_coin+1)]\n",
    "    coin_list = [1, 2, 5, 10, 20, 50, 100, 200]\n",
    "    coin_list.remove(1)\n",
    "    \n",
    "    for coin in coin_list:\n",
    "        for i in range(coin, dest_coin+1):\n",
    "            dp[i] += dp[i - coin]\n",
    "    return dp[dest_coin]"
   ]
  },
  {
   "cell_type": "code",
   "execution_count": null,
   "metadata": {
    "collapsed": false
   },
   "outputs": [],
   "source": [
    "%time find_coin_sum_count([], 10)"
   ]
  },
  {
   "cell_type": "code",
   "execution_count": null,
   "metadata": {
    "collapsed": false
   },
   "outputs": [],
   "source": [
    "%time find_coin_sum_count2(200)"
   ]
  },
  {
   "cell_type": "markdown",
   "metadata": {
    "collapsed": true
   },
   "source": [
    "## Problem 32.\n",
    "\n",
    "\n",
    "1부터 n까지의 각 숫자를 한번씩만 써서 만들 수 있는 숫자를 팬디지털(pandigital)이라고 합니다.  \n",
    "예를 들면 15234는 1부터 5의 숫자가 한번씩만 쓰였으므로 1 ~ 5 팬디지털입니다.  \n",
    "\n",
    "7254라는 숫자는 그런 면에서 특이한데, 39 × 186 = 7254 라는 곱셈식을 만들 때 이것이 1 ~ 9 팬디지털이 되기 때문입니다.  \n",
    "\n",
    "이런 식으로 a × b = c 가 1 ~ 9 팬디지털이 되는 모든 c의 합은 얼마입니까?  \n",
    "\n",
    "(참고: 어떤 c는 두 개 이상의 (a, b)쌍에 대응될 수도 있는데, 이런 경우는 하나로 칩니다)  "
   ]
  },
  {
   "cell_type": "code",
   "execution_count": null,
   "metadata": {
    "collapsed": false
   },
   "outputs": [],
   "source": [
    "# 1 자리수 * 5 자리수 = 최소 5자리 (X)\n",
    "# 1 자리수 * 4 자리수 = 최소 4자리 (O)\n",
    "# 2 자리수 * 3 자리수 = 최소 4자리 (O)\n",
    "# (1,4), (2,3) 으로 뽑을 수 있는 모든 조합\n",
    "\n",
    "# 1차 - c와 숫자 자리수 비교\n",
    "# 2차 - c와 남은 숫자요소 비교\n",
    "\n",
    "def find_pandigital_products():\n",
    "    pandigital_list = []\n",
    "    for comb in combination_generator():\n",
    "        if is_pandigital(comb):\n",
    "            pandigital_list.append((comb, comb[0]*comb[1]))\n",
    "    print(pandigital_list)\n",
    "    return list(map(lambda x: x[1], pandigital_list))\n",
    "    \n",
    "def combination_generator():\n",
    "    for one_digit in range(1, 10):\n",
    "        for four_digit in range(1000, 5000):\n",
    "            yield( (one_digit, four_digit))\n",
    "    for two_digit in range(10, 100):\n",
    "        for three_digit in range(100, 1000):\n",
    "            yield( (two_digit, three_digit) )\n",
    "            \n",
    "def is_pandigital(comb):\n",
    "    a, b = comb\n",
    "    num1 = str(a); num2 = str(b)\n",
    "    if any(n in num2 for n in num1):\n",
    "        return False\n",
    "    if (len(num1) != len(set(num1))) or (len(num2) != len(set(num2))):\n",
    "        return False\n",
    "    if \"\".join(sorted(num1+num2+str(a*b))) != \"123456789\":\n",
    "        return False\n",
    "    else:\n",
    "        return True"
   ]
  },
  {
   "cell_type": "code",
   "execution_count": null,
   "metadata": {
    "collapsed": false
   },
   "outputs": [],
   "source": [
    "%time sum(set(find_pandigital_products()))"
   ]
  },
  {
   "cell_type": "markdown",
   "metadata": {
    "collapsed": true
   },
   "source": [
    "## Problem 33.\n",
    "\n",
    "\n",
    "분수 49/98에는 재미있는 성질이 있습니다. 수학을 잘 모르는 사람이 분모와 분자에서 9를 각각 지워서 간단히 하려고 49/98 = 4/8 처럼 계산해도 올바른 결과가 됩니다.  \n",
    "\n",
    "이에 비해 30/50 = 3/5 같은 경우는 다소 진부한 예라고 볼 수 있습니다.  \n",
    "\n",
    "위와 같은 성질을 가지면서 '진부하지 않은' 분수는, 값이 1보다 작고 분자와 분모가 2자리 정수인 경우 모두 4개가 있습니다.  \n",
    "\n",
    "이 4개의 분수를 곱해서 약분했을 때 분모는 얼마입니까?  "
   ]
  },
  {
   "cell_type": "code",
   "execution_count": null,
   "metadata": {
    "collapsed": true
   },
   "outputs": [],
   "source": [
    "def find_cancelling_fractions():\n",
    "    fraction_list = []\n",
    "    for i in range(10, 100):\n",
    "        for j in range(10, i):\n",
    "            if is_cancelling_faction(j, i):\n",
    "                fraction_list.append((j,i))\n",
    "                \n",
    "    answer_n = 1; answer_d = 1\n",
    "    for (n,d) in fraction_list:\n",
    "        answer_n *= n\n",
    "        answer_d *= d\n",
    "    return(answer_n, answer_d)\n",
    "\n",
    "def is_cancelling_faction(n, d):\n",
    "    for i in range(2):\n",
    "        if str(n)[i] == str(d)[1-i]:\n",
    "            cancel_n = int(str(n)[1-i])\n",
    "            cancel_d = int(str(d)[i])\n",
    "            try:\n",
    "                if n/d == cancel_n/cancel_d:\n",
    "                    return True\n",
    "            except ZeroDivisionError as e:\n",
    "                pass\n",
    "    return False"
   ]
  },
  {
   "cell_type": "code",
   "execution_count": null,
   "metadata": {
    "collapsed": false
   },
   "outputs": [],
   "source": [
    "%time find_cancelling_fractions()"
   ]
  },
  {
   "cell_type": "markdown",
   "metadata": {
    "collapsed": true
   },
   "source": [
    "## Problem 34.\n",
    "\n",
    "숫자 145에는 신기한 성질이 있습니다. 각 자릿수의 팩토리얼(계승)을 더하면  1! + 4! + 5! = 1 + 24 + 120 = 145 처럼 자기 자신이 됩니다.\n",
    "\n",
    "이렇게 각 자릿수의 팩토리얼을 더하면 자기 자신이 되는 모든 수의 합을 구하세요.\n",
    "\n",
    "단, 1! = 1 과 2! = 2 의 경우는 덧셈이 아니므로 제외합니다."
   ]
  },
  {
   "cell_type": "code",
   "execution_count": null,
   "metadata": {
    "collapsed": true
   },
   "outputs": [],
   "source": [
    "def factorial_generator(num):\n",
    "    factorial_list = [1]\n",
    "    f_num = 1\n",
    "    for i in range(1, num+1):\n",
    "        f_num *= i\n",
    "        factorial_list.append(f_num)\n",
    "    return factorial_list\n",
    "\n",
    "# 0!~9! : [1, 1, 2, 6, 24, 120, 720, 5040, 40320, 362880]\n",
    "\n",
    "factorial_list = factorial_generator(9)\n",
    "\n",
    "def find_all_digit_factorials(num):\n",
    "    df_list = []\n",
    "    for i in range(3, num+1):\n",
    "        if is_digit_factorial(i):\n",
    "            df_list.append(i)\n",
    "    return df_list\n",
    "            \n",
    "def is_digit_factorial(num):\n",
    "    f_num = sum([factorial_list[(int(i))] for i in str(num)])\n",
    "    if num == f_num:\n",
    "        return True\n",
    "    else:\n",
    "        return False\n"
   ]
  },
  {
   "cell_type": "code",
   "execution_count": null,
   "metadata": {
    "collapsed": false
   },
   "outputs": [],
   "source": [
    "factorial_generator(9)"
   ]
  },
  {
   "cell_type": "code",
   "execution_count": null,
   "metadata": {
    "collapsed": false
   },
   "outputs": [],
   "source": [
    "is_digit_factorial(145)"
   ]
  },
  {
   "cell_type": "code",
   "execution_count": null,
   "metadata": {
    "collapsed": true
   },
   "outputs": [],
   "source": [
    "# Upper Bound  \n",
    "# 9! = 362880 (총 6자리)\n",
    "# 6*9! = 2177280 (총 7자리)\n",
    "# 7*9! = 2540160\n",
    "upper_bound = 2540160"
   ]
  },
  {
   "cell_type": "code",
   "execution_count": null,
   "metadata": {
    "collapsed": false
   },
   "outputs": [],
   "source": [
    "%time find_all_digit_factorials(upper_bound)"
   ]
  },
  {
   "cell_type": "code",
   "execution_count": null,
   "metadata": {
    "collapsed": false
   },
   "outputs": [],
   "source": [
    "145+40585"
   ]
  },
  {
   "cell_type": "markdown",
   "metadata": {},
   "source": [
    "## Problem 35.\n",
    "\n",
    "소수 중에서 각 자리의 숫자들을 순환시켜도 여전히 소수인 것을 circular prime이라고 합니다. 예를 들어 197은 971, 719가 모두 소수이므로 여기에 해당합니다.\n",
    "\n",
    "이런 소수는 100 밑으로 2, 3, 5, 7, 11, 13, 17, 31, 37, 71, 73, 79, 97 처럼 13개가 있습니다.\n",
    "\n",
    "그러면 1,000,000 밑으로는 모두 몇 개나 있을까요?"
   ]
  },
  {
   "cell_type": "code",
   "execution_count": null,
   "metadata": {
    "collapsed": false
   },
   "outputs": [],
   "source": [
    "def find_all_circular_primes(num):\n",
    "    global prime_set\n",
    "    prime_set = set(eratosthenes_prime_list(num))\n",
    "    circular_prime_count = 0\n",
    "    for i in range(2, num):\n",
    "        if (i in prime_set) and (is_circular_prime(i, prime_set)):\n",
    "            circular_prime_count += 1\n",
    "    return circular_prime_count\n",
    "    \n",
    "def eratosthenes_prime_list(num):\n",
    "    sieve_list = [True] * num\n",
    "    start_num = 2\n",
    "    ##Sieve of Eratosthenes\n",
    "    for i in range(start_num, int(num**0.5)+1):\n",
    "        if sieve_list[i]:\n",
    "            sieve_list[i*i::i] = [False] * len(sieve_list[i*i::i])\n",
    "    return [i for i in range(2, num) if sieve_list[i]]\n",
    "\n",
    "def is_circular_prime(input_num, prime_set):\n",
    "    num = str(input_num)\n",
    "    if len(num) == 1:\n",
    "        return True\n",
    "    \n",
    "    circular_num = \"\"\n",
    "    for i in range(1, len(num)):\n",
    "        circular_num = num[i] + num[i+1:] + num[:i]\n",
    "        if int(circular_num) not in prime_set:\n",
    "            return False\n",
    "    return True"
   ]
  },
  {
   "cell_type": "code",
   "execution_count": null,
   "metadata": {
    "collapsed": false
   },
   "outputs": [],
   "source": [
    "find_all_circular_primes(100)\n",
    "# 13"
   ]
  },
  {
   "cell_type": "code",
   "execution_count": null,
   "metadata": {
    "collapsed": false,
    "scrolled": false
   },
   "outputs": [],
   "source": [
    "%time find_all_circular_primes(1000000)"
   ]
  },
  {
   "cell_type": "markdown",
   "metadata": {
    "collapsed": true
   },
   "source": [
    "## Problem 36.\n",
    "\n",
    "대칭수(palindrome)인 585는 2진수로 나타내도 1001001001_2가 되어 여전히 대칭수입니다.\n",
    "\n",
    "10진법과 2진법으로 모두 대칭수인 1,000,000 이하 숫자의 합을 구하세요.\n",
    "\n",
    "(주의: 첫번째 자리가 0이면 대칭수가 아님)"
   ]
  },
  {
   "cell_type": "code",
   "execution_count": null,
   "metadata": {
    "collapsed": true
   },
   "outputs": [],
   "source": [
    "def find_sum_of_palindromes(num):\n",
    "    result = 0\n",
    "    for n in range(1, num+1):\n",
    "        num_str = str(n)\n",
    "        if is_palindromic(num_str) and is_palindromic(base10_to_base2(n)):\n",
    "            result += n\n",
    "    return result\n",
    "\n",
    "def is_palindromic(num):\n",
    "    num_length = len(num)\n",
    "    for i in range(int(num_length/2)):\n",
    "        if num[i] != num[(num_length-1) - i]:\n",
    "            return False\n",
    "    return True\n",
    "\n",
    "def base10_to_base2(num):\n",
    "    base2 = \"\"\n",
    "    while num != 1:\n",
    "        q, r = divmod(num, 2)\n",
    "        num = q\n",
    "        base2 = str(r) + base2\n",
    "    return \"1\"+base2"
   ]
  },
  {
   "cell_type": "code",
   "execution_count": null,
   "metadata": {
    "collapsed": false
   },
   "outputs": [],
   "source": [
    "%time find_sum_of_palindromes(1000000)"
   ]
  },
  {
   "cell_type": "markdown",
   "metadata": {
    "collapsed": true
   },
   "source": [
    "## Problem 37.\n",
    "\n",
    "소수 3797에는 왼쪽부터 자리수를 하나씩 없애거나 (3797, 797, 97, 7) 오른쪽부터 없애도 (3797, 379, 37, 3) 모두 소수가 되는 성질이 있습니다.\n",
    "\n",
    "이런 성질을 가진 소수는 단 11개만이 존재합니다. 이것을 모두 찾아서 합을 구하세요.\n",
    "\n",
    "(참고: 2, 3, 5, 7은 제외합니다)"
   ]
  },
  {
   "cell_type": "code",
   "execution_count": 23,
   "metadata": {
    "collapsed": false
   },
   "outputs": [],
   "source": [
    "prime_list = []\n",
    "prime_set = set()\n",
    "\n",
    "def find_sum_of_trancatable_primes(num):\n",
    "    global prime_list, prime_set\n",
    "    prime_list = eratosthenes_prime_list(num)\n",
    "    prime_set = set(prime_list)\n",
    "    \n",
    "    result = -17; count = -4 # 2, 3, 5, 7\n",
    "    for prime in prime_list:\n",
    "        if is_trancatable(prime):\n",
    "            result += prime\n",
    "            count += 1\n",
    "            if count == 11:\n",
    "                return True, count, result\n",
    "    return False, count, result\n",
    "\n",
    "def eratosthenes_prime_list(num):\n",
    "    sieve_list = [True] * num\n",
    "    start_num = 2\n",
    "    ##Sieve of Eratosthenes\n",
    "    for i in range(start_num, int(num**0.5)+1):\n",
    "        if sieve_list[i]:\n",
    "            sieve_list[i*i::i] = [False] * len(sieve_list[i*i::i])\n",
    "    return [i for i in range(2, num) if sieve_list[i]]\n",
    "\n",
    "def is_trancatable(prime):\n",
    "    prime = str(prime)\n",
    "    global prime_set\n",
    "    for i in range(1, len(prime)):\n",
    "        if (int(prime[i:]) not in prime_set) \\\n",
    "            or (int(prime[:len(prime)-i]) not in prime_set):\n",
    "            return False\n",
    "    return True"
   ]
  },
  {
   "cell_type": "code",
   "execution_count": 24,
   "metadata": {
    "collapsed": false
   },
   "outputs": [
    {
     "name": "stdout",
     "output_type": "stream",
     "text": [
      "CPU times: user 174 ms, sys: 2.35 ms, total: 177 ms\n",
      "Wall time: 177 ms\n"
     ]
    },
    {
     "data": {
      "text/plain": [
       "(True, 11, 748317)"
      ]
     },
     "execution_count": 24,
     "metadata": {},
     "output_type": "execute_result"
    }
   ],
   "source": [
    "%time find_sum_of_trancatable_primes(750000)"
   ]
  },
  {
   "cell_type": "markdown",
   "metadata": {
    "collapsed": true
   },
   "source": [
    "## Problem 38.\n",
    "\n",
    "숫자 192에 1, 2, 3을 각각 곱합니다.\n",
    "\n",
    "192 × 1 = 192\n",
    "192 × 2 = 384\n",
    "192 × 3 = 576\n",
    "곱한 결과를 모두 이어보면 192384576 이고, 이것은 1 ~ 9 팬디지털(pandigital)인 숫자입니다. 이런 과정을 편의상 '곱해서 이어붙이기'라고 부르기로 합니다.  \n",
    "\n",
    "같은 식으로 9와 (1, 2, 3, 4, 5)를 곱해서 이어붙이면 918273645 라는 1 ~ 9 팬디지털 숫자를 얻습니다.  \n",
    "\n",
    "어떤 정수와 (1, 2, ... , n)을 곱해서 이어붙였을 때 얻을 수 있는 가장 큰 아홉자리의 1 ~ 9 팬디지털 숫자는 무엇입니까? (단 n > 1)  "
   ]
  },
  {
   "cell_type": "code",
   "execution_count": 5,
   "metadata": {
    "collapsed": false
   },
   "outputs": [],
   "source": [
    "def find_max_pandigital():\n",
    "    for n in range(987654321, 918273645, -1):\n",
    "        num = str(n)\n",
    "        if \"\".join(sorted(num)) == '123456789':\n",
    "            if is_pandigital(num):\n",
    "                return n\n",
    "    return \n",
    "\n",
    "def is_pandigital(num):\n",
    "    # 1. (4, 5)\n",
    "    if int(num[:4])*2 == int(num[4:]):\n",
    "        return True\n",
    "    # 2. (3, 3, 3)\n",
    "    second = int(num[:3])\n",
    "    if (second*2 == int(num[3:6])) and (second*3) == int(num[6:]) :\n",
    "        return True\n",
    "    # 3. (1, 2, 2, 2, 2)\n",
    "    third = int(num[0])\n",
    "    for i in range(1,4+1):\n",
    "        if third*(i+1) != int(num[i*2-1:i*2+1]):\n",
    "            return False\n",
    "    return True\n",
    "\n",
    "# 첫자리가 9이므로 \n",
    "# 1번 (4, 5) => 94xx, 94xx * 2 = 188..\n",
    "#               93xx, 93xx * 2 = 186.. (upper)\n",
    "# 2번 (3, 3, 3) => 9xx, 9xx * 2, <- 불가능\n",
    "# 3번 (1, 2, 2, 2, 2) => 9, 9*2 = 18 가능한 수 918.... (lower)\n",
    "\n",
    "def find_max_pandigital2():\n",
    "    upper = 9387; lower = 9182\n",
    "    for n in range(upper, lower, -1):\n",
    "        num = str(n)\n",
    "        pandigi\n",
    "        if \"\".join(sorted(num)) == '123456789':\n",
    "    return "
   ]
  },
  {
   "cell_type": "code",
   "execution_count": 6,
   "metadata": {
    "collapsed": false
   },
   "outputs": [
    {
     "data": {
      "text/plain": [
       "True"
      ]
     },
     "execution_count": 6,
     "metadata": {},
     "output_type": "execute_result"
    }
   ],
   "source": [
    "is_pandigital('918273645')"
   ]
  },
  {
   "cell_type": "code",
   "execution_count": 7,
   "metadata": {
    "collapsed": false
   },
   "outputs": [
    {
     "name": "stdout",
     "output_type": "stream",
     "text": [
      "CPU times: user 9.5 s, sys: 60.8 ms, total: 9.56 s\n",
      "Wall time: 9.62 s\n"
     ]
    },
    {
     "data": {
      "text/plain": [
       "932718654"
      ]
     },
     "execution_count": 7,
     "metadata": {},
     "output_type": "execute_result"
    }
   ],
   "source": [
    "%time find_max_pandigital()"
   ]
  },
  {
   "cell_type": "markdown",
   "metadata": {
    "collapsed": true
   },
   "source": [
    "## Problem 39.\n",
    "\n",
    "세 변의 길이가 모두 자연수 {a, b, c}인 직각삼각형의 둘레를 p 로 둘 때, p = 120 을 만족하는 직각삼각형은 아래와 같이 세 개가 있습니다.  \n",
    "\n",
    "{20, 48, 52}, {24, 45, 51}, {30, 40, 50}  \n",
    "1000 이하의 둘레 p에 대해서, 직각삼각형이 가장 많이 만들어지는 p의 값은 얼마입니까?  \n",
    "\n"
   ]
  },
  {
   "cell_type": "code",
   "execution_count": 48,
   "metadata": {
    "collapsed": false
   },
   "outputs": [],
   "source": [
    "def find_max_perimeter(num):\n",
    "    result = 0\n",
    "    max_count = 0\n",
    "    for p in range(12, num+1):\n",
    "        count = right_angle_triangle_count(p)\n",
    "        if count > max_count:\n",
    "            max_count = count\n",
    "            result = p\n",
    "    return result\n",
    "\n",
    "def right_angle_triangle_count(p):\n",
    "    tri_list = []\n",
    "    for a in range(1, int(p/3)):\n",
    "        # b = (p2 -2pa) / (2p-2a)\n",
    "        b = (p**2 - 2*a*p) / (2*p - 2*a)\n",
    "        if is_int(b):\n",
    "            c = (a**2 + b**2) ** 0.5\n",
    "            tri_list.append((a, b, c))\n",
    "    return len(tri_list)\n",
    "    \n",
    "def is_int(num):\n",
    "    if int(num) == num:\n",
    "        return True\n",
    "    else:\n",
    "        return False"
   ]
  },
  {
   "cell_type": "code",
   "execution_count": 49,
   "metadata": {
    "collapsed": false
   },
   "outputs": [
    {
     "data": {
      "text/plain": [
       "3"
      ]
     },
     "execution_count": 49,
     "metadata": {},
     "output_type": "execute_result"
    }
   ],
   "source": [
    "right_angle_triangle_count(120)"
   ]
  },
  {
   "cell_type": "code",
   "execution_count": 51,
   "metadata": {
    "collapsed": false
   },
   "outputs": [
    {
     "name": "stdout",
     "output_type": "stream",
     "text": [
      "CPU times: user 148 ms, sys: 1.15 ms, total: 149 ms\n",
      "Wall time: 149 ms\n"
     ]
    },
    {
     "data": {
      "text/plain": [
       "840"
      ]
     },
     "execution_count": 51,
     "metadata": {},
     "output_type": "execute_result"
    }
   ],
   "source": [
    "%time find_max_perimeter(1000)"
   ]
  },
  {
   "cell_type": "markdown",
   "metadata": {
    "collapsed": true
   },
   "source": [
    "## Problem 40.\n",
    "\n",
    "소수점 뒤에 양의 정수를 차례대로 붙여 나가면 아래와 같은 무리수를 만들 수 있습니다.\n",
    "\n",
    "0.12345678910**1**112131415161718192021...\n",
    "\n",
    "이 무리수의 소수점 아래 12번째 자리에는 1이 옵니다 (위에서 붉게 표시된 숫자).\n",
    "\n",
    "소수점 아래 n번째 숫자를 dn이라고 했을 때, 아래 식의 값은 얼마입니까?\n",
    "\n",
    "d1 × d10 × d100 × d1000 × d10000 × d100000 × d1000000"
   ]
  },
  {
   "cell_type": "code",
   "execution_count": 30,
   "metadata": {
    "collapsed": false
   },
   "outputs": [],
   "source": [
    "def find_champernowne_constants():\n",
    "    result = 1\n",
    "    for i in range(7):\n",
    "        result *= int(champernowne_constant(10**i))\n",
    "    return result\n",
    "    \n",
    "def champernowne_constant(nth):\n",
    "    result = 1; step = 1\n",
    "    while nth != 1:\n",
    "        digits = step * 9 * 10**(step-1)\n",
    "        if nth > digits:\n",
    "            nth -= digits\n",
    "        else:\n",
    "            q, r = divmod(nth, step)\n",
    "            result = (10 **(step-1) - 1) + q\n",
    "            result = str(result)[r-1]\n",
    "            break\n",
    "        step += 1\n",
    "    return result"
   ]
  },
  {
   "cell_type": "code",
   "execution_count": 33,
   "metadata": {
    "collapsed": false
   },
   "outputs": [
    {
     "name": "stdout",
     "output_type": "stream",
     "text": [
      "1234567891011121314\n"
     ]
    }
   ],
   "source": [
    "test = \"\"\n",
    "for i in range(1, 20):\n",
    "    test += str(champernowne_constant(i))\n",
    "print(test)"
   ]
  },
  {
   "cell_type": "code",
   "execution_count": 34,
   "metadata": {
    "collapsed": false
   },
   "outputs": [
    {
     "name": "stdout",
     "output_type": "stream",
     "text": [
      "CPU times: user 34 µs, sys: 0 ns, total: 34 µs\n",
      "Wall time: 36 µs\n"
     ]
    },
    {
     "data": {
      "text/plain": [
       "210"
      ]
     },
     "execution_count": 34,
     "metadata": {},
     "output_type": "execute_result"
    }
   ],
   "source": [
    "%time find_champernowne_constants()"
   ]
  },
  {
   "cell_type": "code",
   "execution_count": null,
   "metadata": {
    "collapsed": true
   },
   "outputs": [],
   "source": []
  }
 ],
 "metadata": {
  "kernelspec": {
   "display_name": "Python 3",
   "language": "python",
   "name": "python3"
  },
  "language_info": {
   "codemirror_mode": {
    "name": "ipython",
    "version": 3
   },
   "file_extension": ".py",
   "mimetype": "text/x-python",
   "name": "python",
   "nbconvert_exporter": "python",
   "pygments_lexer": "ipython3",
   "version": "3.5.1"
  }
 },
 "nbformat": 4,
 "nbformat_minor": 0
}
