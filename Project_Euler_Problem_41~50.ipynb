{
 "cells": [
  {
   "cell_type": "markdown",
   "metadata": {
    "collapsed": true
   },
   "source": [
    "## Problem 41.\n",
    "\n",
    "1부터 n까지의 숫자를 하나씩만 써서 만든 n자리 숫자를 팬디지털(pandigital)이라고 부릅니다.\n",
    "\n",
    "2143은 4자리 팬디지털인데, 이 수는 동시에 소수이기도 합니다.\n",
    "\n",
    "n자리 팬디지털 소수 중에서 가장 큰 수는 무엇입니까?"
   ]
  },
  {
   "cell_type": "code",
   "execution_count": null,
   "metadata": {
    "collapsed": false
   },
   "outputs": [],
   "source": [
    "def find_largest_pandigital_prime():\n",
    "    prime_list = eratosthenes_prime_list(7654321)\n",
    "    result = 0\n",
    "    for i in range(len(prime_list)-1, 0, -1):\n",
    "        if is_pandigital(prime_list[i]):\n",
    "            result = prime_list[i]\n",
    "            break\n",
    "    return result\n",
    "    \n",
    "def eratosthenes_prime_list(num):\n",
    "    sieve_list = [True] * num\n",
    "    start_num = 2\n",
    "    ##Sieve of Eratosthenes\n",
    "    for i in range(start_num, int(num**0.5)+1):\n",
    "        if sieve_list[i]:\n",
    "            sieve_list[i*i::i] = [False] * len(sieve_list[i*i::i])\n",
    "    return [i for i in range(2, num) if sieve_list[i]]\n",
    "\n",
    "def is_pandigital(prime):\n",
    "    prime = str(prime)\n",
    "    pan_number = \"123456789\"\n",
    "    if \"\".join(sorted(prime)) == pan_number[:len(prime)]:\n",
    "        return True\n",
    "    else:\n",
    "        return False\n"
   ]
  },
  {
   "cell_type": "code",
   "execution_count": null,
   "metadata": {
    "collapsed": false
   },
   "outputs": [],
   "source": [
    "is_pandigital(2143)"
   ]
  },
  {
   "cell_type": "code",
   "execution_count": null,
   "metadata": {
    "collapsed": false
   },
   "outputs": [],
   "source": [
    "%time find_largest_pandigital_prime()"
   ]
  },
  {
   "cell_type": "markdown",
   "metadata": {
    "collapsed": true
   },
   "source": [
    "## Problem 42.\n",
    "\n",
    "\n",
    "n번째 삼각수는 tn = ½ n (n + 1) 이라는 식으로 구할 수 있는데, 처음 10개는 아래와 같습니다.\n",
    "\n",
    "1, 3, 6, 10, 15, 21, 28, 36, 45, 55, ...\n",
    "\n",
    "어떤 영어 단어에 대해서, 각 철자의 알파벳 순서(A=1, B=2, ..., Z=26)를 모두 더한 값을 '단어값'이라 부르기로 합니다.  \n",
    "예를 들어 'SKY'의 단어값은 19 + 11 + 25 = 55가 되는데, 이것은 우연히도 t10과 같습니다.  \n",
    "이렇게 어떤 단어의 단어값이 삼각수일 경우에는 이 단어를 '삼각단어'라 부르기로 합니다.  \n",
    "\n",
    "약 16KB의 텍스트 파일 [words.txt](http://euler.synap.co.kr/files/words.txt)에는 2000개 정도의 영어 단어가 수록되어 있습니다. 이 중에서 삼각단어는 모두 몇 개입니까?"
   ]
  },
  {
   "cell_type": "code",
   "execution_count": null,
   "metadata": {
    "collapsed": false
   },
   "outputs": [],
   "source": [
    "f = open(\"words.txt\", 'r')\n",
    "word_list = f.read().split(\",\")\n",
    "word_list = list(map(lambda x: x[1:-1], word_list))\n",
    "\n",
    "def find_count_of_coded_triangle_numbers():\n",
    "    upper = max(list(map(lambda x: len(x), word_list)))\n",
    "    tri_set = triangle_set(upper)\n",
    "    count = 0\n",
    "    for word in word_list:\n",
    "        alphabet_num = 0\n",
    "        for i in range(len(word)):\n",
    "            alphabet_num += ord(word[i]) - ord('A') + 1\n",
    "        if alphabet_num in tri_set:\n",
    "            count += 1\n",
    "    return count\n",
    "\n",
    "def triangle_set(upper):\n",
    "    tri_list = []\n",
    "    tn = 1; n = 1; upper *= 26\n",
    "    while tn <= upper:\n",
    "        tn = (n * (n+1))/2\n",
    "        tri_list.append(int(tn))\n",
    "        n += 1\n",
    "    return set(tri_list)\n",
    "\n",
    "def find_count_of_coded_triangle_numbers2():\n",
    "    count = 0\n",
    "    for word in word_list:\n",
    "        tn = 0\n",
    "        for i in range(len(word)):\n",
    "            tn += ord(word[i]) - ord('A') + 1\n",
    "        n = ((1 + 8*tn)**0.5 - 1)/2\n",
    "        if is_int(n):\n",
    "            count += 1\n",
    "    return count\n",
    "\n",
    "def is_int(num):\n",
    "    if num == int(num):\n",
    "        return True\n",
    "    else:\n",
    "        return False"
   ]
  },
  {
   "cell_type": "code",
   "execution_count": null,
   "metadata": {
    "collapsed": false
   },
   "outputs": [],
   "source": [
    "%time find_count_of_coded_triangle_numbers()"
   ]
  },
  {
   "cell_type": "code",
   "execution_count": null,
   "metadata": {
    "collapsed": false
   },
   "outputs": [],
   "source": [
    "%time find_count_of_coded_triangle_numbers2()\n",
    "# 더 빠를 줄 알았는데.. 아니다, 하나하나 n을 구하는 과정이 필요하기 때문."
   ]
  },
  {
   "cell_type": "code",
   "execution_count": null,
   "metadata": {
    "collapsed": true
   },
   "outputs": [],
   "source": [
    "test = [1, 2, 3, 4, 5]\n",
    "rm = [1, 2]"
   ]
  },
  {
   "cell_type": "code",
   "execution_count": null,
   "metadata": {
    "collapsed": false
   },
   "outputs": [],
   "source": [
    "test - rm"
   ]
  },
  {
   "cell_type": "markdown",
   "metadata": {},
   "source": [
    "## Problem 43.\n",
    "\n",
    "숫자 1406357289은 0 ~ 9 팬디지털인데, 부분열에 관련된 재미있는 성질을 가지고 있습니다.\n",
    "\n",
    "d1을 첫째 자리수, d2를 둘째 자리수...라고 했을 때, 다음과 같은 사실을 발견할 수 있습니다.\n",
    "\n",
    "- d2 d3 d4 = 406 → 2로 나누어 떨어짐\n",
    "- d3 d4 d5 = 063 → 3으로 나누어 떨어짐\n",
    "- d4 d5 d6 = 635 → 5로 나누어 떨어짐\n",
    "- d5 d6 d7 = 357 → 7로 나누어 떨어짐\n",
    "- d6 d7 d8 = 572 → 11로 나누어 떨어짐\n",
    "- d7 d8 d9 = 728 → 13으로 나누어 떨어짐\n",
    "- d8 d9 d10 = 289 → 17로 나누어 떨어짐\n",
    "\n",
    "위와 같은 성질을 갖는 0 ~ 9 팬디지털을 모두 찾아서 그 합을 구하면 얼마입니까?"
   ]
  },
  {
   "cell_type": "code",
   "execution_count": null,
   "metadata": {
    "collapsed": false
   },
   "outputs": [],
   "source": [
    "def find_sum_of_substring_divisibility():\n",
    "    sum_of_pandigital = 0\n",
    "    \n",
    "    #d6 = 5\n",
    "    div_11_list = divide_11_list()\n",
    "    div_11_list.remove(550)\n",
    "    \n",
    "    #d6,d7,d8 % 11 == 0\n",
    "    for div_11 in div_11_list:\n",
    "        pandigital = str(div_11)\n",
    "        num_list = list(range(10))\n",
    "        num_list = list_sub(num_list, str(div_11))\n",
    "        \n",
    "        # 1. % 13 == 0 (right)\n",
    "        # 2. % 17 == 0 (right)\n",
    "        # 3. % 7 == 0 (left)\n",
    "        # 4. % 2 == 0 (left)\n",
    "        # 5. % 3 == 0 (left)\n",
    "        # function_list = [(div_n, next_f) ..]\n",
    "        function_list = [(13, div_n_plus_right), (17, div_n_plus_left), (7, div_2_plus_left),\n",
    "                        (2, div_n_plus_left), (3, sum_of_remain_combination)]\n",
    "        sum_of_pandigital += div_n_plus_right(pandigital, num_list, function_list)\n",
    "    return sum_of_pandigital\n",
    "    \n",
    "def divide_11_list():\n",
    "    return [506 + 11*n for n in range(9)]\n",
    "\n",
    "def list_sub(list1, num_str):\n",
    "    new_list = list1\n",
    "    for num in num_str:\n",
    "        new_list.remove(int(num))\n",
    "    return new_list\n",
    "\n",
    "def div_n_plus_right(pandigital, num_list, next_f_list):\n",
    "    result = 0\n",
    "    div_n, next_f = next_f_list[7-len(num_list)]\n",
    "    for dn in num_list:\n",
    "        next_num = int(pandigital[-2:] + str(dn))\n",
    "        if next_num % div_n == 0:\n",
    "            result += next_f(pandigital + str(dn), [n for n in num_list if n != dn], next_f_list)\n",
    "        else:\n",
    "            continue\n",
    "    return result\n",
    "    \n",
    "def div_n_plus_left(pandigital, num_list, next_f_list):\n",
    "    result = 0\n",
    "    div_n, next_f = next_f_list[7-len(num_list)]\n",
    "    for dn in num_list:\n",
    "        next_num = int(str(dn) + pandigital[:2])\n",
    "        if next_num % div_n == 0:\n",
    "            result += next_f(str(dn) + pandigital, [n for n in num_list if n != dn], next_f_list)\n",
    "        else:\n",
    "            continue\n",
    "    return result\n",
    "            \n",
    "def div_2_plus_left(pandigital, num_list, next_f_list):\n",
    "    result = 0\n",
    "    div_n, next_f = next_f_list[7-len(num_list)]\n",
    "    for dn in num_list:\n",
    "        if dn % 2 == 0:\n",
    "            result += next_f(str(dn) + pandigital, [n for n in num_list if n != dn], next_f_list)\n",
    "        else:\n",
    "            continue\n",
    "    return result\n",
    "            \n",
    "def sum_of_remain_combination(pandigital, num_list, next_f_list):\n",
    "    num_list = list(map(lambda x: str(x), num_list))\n",
    "    return int(num_list[0] + num_list[1] + pandigital) + int(num_list[1] + num_list[0] + pandigital)"
   ]
  },
  {
   "cell_type": "code",
   "execution_count": null,
   "metadata": {
    "collapsed": false
   },
   "outputs": [],
   "source": [
    "divide_11_list()"
   ]
  },
  {
   "cell_type": "code",
   "execution_count": null,
   "metadata": {
    "collapsed": false
   },
   "outputs": [],
   "source": [
    "%time find_sum_of_substring_divisibility()"
   ]
  },
  {
   "cell_type": "markdown",
   "metadata": {
    "collapsed": true
   },
   "source": [
    "## Problem 44.\n",
    "\n",
    "오각수는 Pn = n (3n − 1)/2 라는 공식으로 구할 수 있고, 처음 10개의 오각수는 다음과 같습니다.\n",
    "\n",
    "1, 5, 12, 22, 35, 51, 70, 92, 117, 145, ...\n",
    "\n",
    "위에서 P4 + P7 = 22 + 70 = 92 = P8이 됨을 볼 수 있습니다. 하지만 두 값의 차인 70 − 22 = 48 은 오각수가 아닙니다.\n",
    "\n",
    "합과 차도 모두 오각수인 두 오각수 Pj, Pk 에 대해서, 그 차이 D = | Pk − Pj | 는 가장 작을 때 얼마입니까?"
   ]
  },
  {
   "cell_type": "code",
   "execution_count": null,
   "metadata": {
    "collapsed": false
   },
   "outputs": [],
   "source": [
    "def find_min_pentagon_numbers():\n",
    "    pentagon_set = set()\n",
    "    pentagon_set.add(1)\n",
    "    pentagon_set.add(5)\n",
    "    pentagon_set.add(12)\n",
    "    pentagon_set.add(22)\n",
    "    n_pentagon = 4; last_pentagon = 22\n",
    "    \n",
    "    step = 4\n",
    "    result = 0\n",
    "    while True:\n",
    "        if pentagon(step-2)+pentagon(step-1) > last_pentagon:\n",
    "            n_pentagon += 1\n",
    "            last_pentagon = pentagon(n_pentagon)\n",
    "            pentagon_set.add(last_pentagon)\n",
    "            continue\n",
    "        \n",
    "        \n",
    "        for i in range(step-1, 1, -1):\n",
    "            if ((pentagon(step)-pentagon(i) in pentagon_set) and \n",
    "                (pentagon(step)+pentagon(i) in pentagon_set)):\n",
    "                result = pentagon(step)-pentagon(i)\n",
    "                return result\n",
    "            \n",
    "        step += 1\n",
    "    return False\n",
    "        \n",
    "def pentagon(n):\n",
    "    return (n * (3*n - 1) )/ 2"
   ]
  },
  {
   "cell_type": "code",
   "execution_count": null,
   "metadata": {
    "collapsed": false
   },
   "outputs": [],
   "source": [
    "%time find_min_pentagon_numbers()"
   ]
  },
  {
   "cell_type": "markdown",
   "metadata": {
    "collapsed": true
   },
   "source": [
    "## Problem 45.\n",
    "\n",
    "삼각수, 오각수, 육각수는 아래 식으로 구할 수 있습니다.\n",
    "\n",
    "삼각수\t \tTn = n (n + 1) / 2\t \t1, 3, 6, 10, 15, ...  \n",
    "오각수\t \tPn = n (3n − 1) / 2\t \t1, 5, 12, 22, 35, ...  \n",
    "육각수\t \tHn = n (2n − 1)\t \t1, 6, 15, 28, 45, ...  \n",
    "\n",
    "여기서 T285 = P165 = H143 = 40755 가 됩니다.\n",
    "\n",
    "오각수와 육각수도 되는, 그 다음으로 큰 삼각수를 구하세요."
   ]
  },
  {
   "cell_type": "code",
   "execution_count": null,
   "metadata": {
    "collapsed": false
   },
   "outputs": [],
   "source": [
    "def find_next_tri_pen_hex_number():\n",
    "    t_n = 286; p_n = 166; h_n = 144\n",
    "    \n",
    "    tph_n_list = [t_n, p_n, h_n]\n",
    "    tph_v_list = [triangle(t_n), pentagonal(p_n), hexagonal(h_n)]\n",
    "    tph_f_list = [triangle, pentagonal, hexagonal]\n",
    "\n",
    "    result = 0\n",
    "    while True:\n",
    "        if len(set(tph_v_list)) == 1:\n",
    "            result = tph_v_list[0]\n",
    "            break\n",
    "        else:\n",
    "            min_value = min(tph_v_list)\n",
    "            min_index = tph_v_list.index(min_value)\n",
    "            tph_n_list[min_index] += 1\n",
    "            tph_v_list[min_index] = tph_f_list[min_index](tph_n_list[min_index])\n",
    "    return result\n",
    "            \n",
    "def triangle(n):\n",
    "    return (n * (n + 1)) / 2\n",
    "\n",
    "def pentagonal(n):\n",
    "    return (n * (3*n - 1)) / 2\n",
    "\n",
    "def hexagonal(n):\n",
    "    return n * (2*n - 1)"
   ]
  },
  {
   "cell_type": "code",
   "execution_count": null,
   "metadata": {
    "collapsed": false
   },
   "outputs": [],
   "source": [
    "%time find_next_tri_pen_hex_number()"
   ]
  },
  {
   "cell_type": "markdown",
   "metadata": {
    "collapsed": true
   },
   "source": [
    "## Problem 46.\n",
    "\n",
    "크리스티안 골드바흐는 모든 홀수인 합성수를 (소수 + 2×제곱수)로 나타낼 수 있다고 주장했습니다.\n",
    "\n",
    "9 = 7 + 2×1^2  \n",
    "15 = 7 + 2×2^2  \n",
    "21 = 3 + 2×3^2  \n",
    "25 = 7 + 2×3^2  \n",
    "27 = 19 + 2×2^2  \n",
    "33 = 31 + 2×1^2  \n",
    "\n",
    "이 추측은 잘못되었음이 밝혀졌습니다.\n",
    "\n",
    "위와 같은 방법으로 나타낼 수 없는 가장 작은 홀수 합성수는 얼마입니까?"
   ]
  },
  {
   "cell_type": "code",
   "execution_count": null,
   "metadata": {
    "collapsed": false
   },
   "outputs": [],
   "source": [
    "def find_min_odd_number():\n",
    "    prime_list = sieve_of_era(7000)\n",
    "    result = 1\n",
    "    while True:\n",
    "        result += 2\n",
    "        is_composite = False\n",
    "        for prime in prime_list:\n",
    "            if prime > result:\n",
    "                continue\n",
    "            if is_square(result - prime):\n",
    "                is_composite = True\n",
    "        if not is_composite:\n",
    "            break\n",
    "    return result\n",
    "    \n",
    "def sieve_of_era(num):\n",
    "    sieve_list = [True] * num\n",
    "    start_num = 2\n",
    "    ##Sieve of Eratosthenes\n",
    "    for i in range(start_num, int(num**0.5)+1):\n",
    "        if sieve_list[i]:\n",
    "            sieve_list[i*i::i] = [False] * len(sieve_list[i*i::i])\n",
    "    return [i for i in range(2, num) if sieve_list[i]]\n",
    "\n",
    "def is_square(num):\n",
    "    twice_square_n = (num/2)**0.5\n",
    "    if int(twice_square_n) == twice_square_n:\n",
    "        return True\n",
    "    else:\n",
    "        return False"
   ]
  },
  {
   "cell_type": "code",
   "execution_count": null,
   "metadata": {
    "collapsed": false
   },
   "outputs": [],
   "source": [
    "find_min_odd_number()"
   ]
  },
  {
   "cell_type": "markdown",
   "metadata": {
    "collapsed": true
   },
   "source": [
    "## Problem 47.\n",
    "\n",
    "서로 다른 두 개의 소인수를 갖는 수들이 처음으로 두 번 연달아 나오는 경우는 다음과 같습니다.\n",
    "\n",
    "14 = 2 × 7  \n",
    "15 = 3 × 5  \n",
    "\n",
    "서로 다른 세 개의 소인수를 갖는 수들이 처음으로 세 번 연속되는 경우는 다음과 같습니다.\n",
    "\n",
    "644 = 2² × 7 × 23  \n",
    "645 = 3 × 5 × 43  \n",
    "646 = 2 × 17 × 19  \n",
    "\n",
    "서로 다른 네 개의 소인수를 갖는 수들이 처음으로 네 번 연속되는 경우를 찾으세요. 그 첫번째 숫자는 얼마입니까?"
   ]
  },
  {
   "cell_type": "code",
   "execution_count": null,
   "metadata": {
    "collapsed": false
   },
   "outputs": [],
   "source": [
    "from itertools import groupby\n",
    "\n",
    "def find_distinct_primes_factor():\n",
    "    result = 0\n",
    "    number = 2\n",
    "    factorization_list = []\n",
    "    continous_step = 0\n",
    "    \n",
    "    is_found = False\n",
    "    while not is_found :\n",
    "        if continous_step == 4:\n",
    "            result = number-4\n",
    "            is_found = True\n",
    "        \n",
    "        # 같은 지수끼리 곱해줌.\n",
    "        prime_f = [key**len(list(group)) for key, group in groupby(prime_factorization(number))]\n",
    "        if len(prime_f) == 4:\n",
    "            factorization_list += prime_f\n",
    "            continous_step += 1\n",
    "        else:\n",
    "            factorization_list = []\n",
    "            continous_step = 0\n",
    "        \n",
    "        number += 1\n",
    "        \n",
    "        # For display progress\n",
    "        if number % 10000 == 0:\n",
    "            print(number)\n",
    "    return result\n",
    "\n",
    "def sieve_of_era(num):\n",
    "    sieve_list = [True] * num\n",
    "    start_num = 2\n",
    "    ##Sieve of Eratosthenes\n",
    "    for i in range(start_num, int(num**0.5)+1):\n",
    "        if sieve_list[i]:\n",
    "            sieve_list[i*i::i] = [False] * len(sieve_list[i*i::i])\n",
    "    return [i for i in range(2, num) if sieve_list[i]]\n",
    "\n",
    "prime_set = set(sieve_of_era(100000))\n",
    "\n",
    "# 완전 소인수 분해(정렬된 순서)\n",
    "def prime_factorization(num):\n",
    "    pf_list = []\n",
    "    p = 2\n",
    "    while p*p <= num:\n",
    "        while (num % p) == 0:\n",
    "            pf_list.append(p)  # supposing you want multiple factors repeated\n",
    "            num //= p\n",
    "        p += 1\n",
    "    if num > 1:\n",
    "        pf_list.append(num)\n",
    "    return pf_list"
   ]
  },
  {
   "cell_type": "code",
   "execution_count": null,
   "metadata": {
    "collapsed": false
   },
   "outputs": [],
   "source": [
    "prime_factorization(644)"
   ]
  },
  {
   "cell_type": "code",
   "execution_count": null,
   "metadata": {
    "collapsed": false
   },
   "outputs": [],
   "source": [
    "prime_factorization(645)"
   ]
  },
  {
   "cell_type": "code",
   "execution_count": null,
   "metadata": {
    "collapsed": false
   },
   "outputs": [],
   "source": [
    "prime_factorization(646)"
   ]
  },
  {
   "cell_type": "code",
   "execution_count": null,
   "metadata": {
    "collapsed": false
   },
   "outputs": [],
   "source": [
    "prime_factorization(134000)"
   ]
  },
  {
   "cell_type": "code",
   "execution_count": null,
   "metadata": {
    "collapsed": false
   },
   "outputs": [],
   "source": [
    "[key**len(list(group)) for key, group in groupby(sorted(prime_factorization(134000)))]"
   ]
  },
  {
   "cell_type": "code",
   "execution_count": null,
   "metadata": {
    "collapsed": false
   },
   "outputs": [],
   "source": [
    "%time find_distinct_primes_factor()"
   ]
  },
  {
   "cell_type": "markdown",
   "metadata": {
    "collapsed": true
   },
   "source": [
    "## Problem 48.\n",
    "\n",
    "1^1 + 2^2 + 3^3 + ... + 10^10 = 10405071317 입니다.\n",
    "\n",
    "1^1 + 2^2 + 3^3 + ... + 1000^1000 의 마지막 10자리 숫자는 무엇입니까?"
   ]
  },
  {
   "cell_type": "code",
   "execution_count": null,
   "metadata": {
    "collapsed": false
   },
   "outputs": [],
   "source": [
    "result = 0\n",
    "for n in range(1, 11):\n",
    "    result += n**n\n",
    "print(result)"
   ]
  },
  {
   "cell_type": "code",
   "execution_count": null,
   "metadata": {
    "collapsed": false
   },
   "outputs": [],
   "source": [
    "def find_ten_digits_self_powers():\n",
    "    result = 0\n",
    "    for n in range(1, 1001):\n",
    "        result += n**n\n",
    "    return(str(result)[-10:])"
   ]
  },
  {
   "cell_type": "code",
   "execution_count": null,
   "metadata": {
    "collapsed": false
   },
   "outputs": [],
   "source": [
    "%time find_ten_digits_self_powers()"
   ]
  },
  {
   "cell_type": "code",
   "execution_count": null,
   "metadata": {
    "collapsed": true
   },
   "outputs": [],
   "source": [
    "# Modulo Solution\n",
    "    # => (a * b) % c = ((a % c) * (b % c)) % c\n",
    "    # => (a + b) % c = ((a % c) + (b % c)) % c\n",
    "\n",
    "def find_ten_digits_self_powers2():\n",
    "    result = 0\n",
    "    modulo = 10000000000\n",
    "    \n",
    "    for i in range(1, 1001):\n",
    "        num = 1\n",
    "        for j in range(i):\n",
    "            num = (num*i) % modulo\n",
    "        result = (result+num) % modulo\n",
    "    return result\n",
    "\n",
    "def find_ten_digits_self_powers3():\n",
    "    result = 0\n",
    "    modulo = 10000000000\n",
    "    \n",
    "    for i in range(1, 1001):\n",
    "        num = 1\n",
    "        for j in range(i):\n",
    "            num = ((num % modulo) * (i % modulo)) % modulo\n",
    "        result = ((result % modulo) + (num % modulo)) % modulo\n",
    "    return result"
   ]
  },
  {
   "cell_type": "code",
   "execution_count": null,
   "metadata": {
    "collapsed": false
   },
   "outputs": [],
   "source": [
    "%time find_ten_digits_self_powers2()"
   ]
  },
  {
   "cell_type": "code",
   "execution_count": null,
   "metadata": {
    "collapsed": false
   },
   "outputs": [],
   "source": [
    "%time find_ten_digits_self_powers3()"
   ]
  },
  {
   "cell_type": "markdown",
   "metadata": {
    "collapsed": true
   },
   "source": [
    "## Problem 49.\n",
    "\n",
    "1487, 4817, 8147은 3330씩 늘어나는 등차수열입니다. 이 수열에는 특이한 점이 두 가지 있습니다.  \n",
    "\n",
    "세 수는 모두 소수입니다.  \n",
    "세 수는 각각 다른 수의 자릿수를 바꿔서 만들 수 있는 순열(permutation)입니다.    \n",
    "1자리, 2자리, 3자리의 소수 중에서는 위와 같은 성질을 갖는 수열이 존재하지 않습니다.  \n",
    "하지만 4자리라면 위엣것 말고도 또 다른 수열이 존재합니다.  \n",
    "\n",
    "def 그 수열의 세 항을 이었을 때 만들어지는 12자리 숫자는 무엇입니까?  "
   ]
  },
  {
   "cell_type": "code",
   "execution_count": 165,
   "metadata": {
    "collapsed": false
   },
   "outputs": [],
   "source": [
    "def find_prime_permutations():\n",
    "    prime_list = sieve_of_era(10000)\n",
    "    prime_list = list(filter(lambda x: len(str(x)) == 4, prime_list))\n",
    "    prime_set = set(prime_list)\n",
    "    \n",
    "    result = False\n",
    "    for prime in prime_list:\n",
    "        count = 0\n",
    "        pp_list = [] #prime+perputation\n",
    "        for permu in permutation_generator(str(prime)):\n",
    "            permu = int(permu)\n",
    "            if (permu in prime_set) and (permu not in pp_list):\n",
    "                count += 1\n",
    "                pp_list.append(permu)\n",
    "        if count >= 3:\n",
    "            if is_increases_same_three_times(sorted(pp_list)):\n",
    "                result = True\n",
    "                break\n",
    "    return result\n",
    "    \n",
    "def sieve_of_era(num):\n",
    "    sieve_list = [True] * num\n",
    "    start_num = 2\n",
    "    ##Sieve of Eratosthenes\n",
    "    for i in range(start_num, int(num**0.5)+1):\n",
    "        if sieve_list[i]:\n",
    "            sieve_list[i*i::i] = [False] * len(sieve_list[i*i::i])\n",
    "    return [i for i in range(2, num) if sieve_list[i]]\n",
    "\n",
    "def permutation_generator(items):\n",
    "    length = len(items)\n",
    "    def inner(ix=[]):\n",
    "        do_yield = len(ix) == length - 1\n",
    "        for i in range(0, length):\n",
    "            if i in ix: #avoid duplicates\n",
    "                continue\n",
    "            if do_yield:\n",
    "                yield tuple([items[y] for y in ix + [i]])\n",
    "            else:\n",
    "                for p in inner(ix + [i]):\n",
    "                    join_p = ''.join(map(lambda x:str(x), p))\n",
    "                    yield join_p\n",
    "    return inner()\n",
    "\n",
    "def is_increases_same_three_times(num_list):\n",
    "    for i in range(len(num_list)):\n",
    "        for j in range(i-1, 0, -1):\n",
    "            k = num_list[i] + (num_list[i] - num_list[j])\n",
    "            if k in num_list:\n",
    "                print(num_list[j], num_list[i], k)\n",
    "                return True\n",
    "    return False"
   ]
  },
  {
   "cell_type": "code",
   "execution_count": 166,
   "metadata": {
    "collapsed": false
   },
   "outputs": [
    {
     "data": {
      "text/plain": [
       "['123', '132', '213', '231', '312', '321']"
      ]
     },
     "execution_count": 166,
     "metadata": {},
     "output_type": "execute_result"
    }
   ],
   "source": [
    "list(permutation_generator('123'))"
   ]
  },
  {
   "cell_type": "code",
   "execution_count": 168,
   "metadata": {
    "collapsed": false
   },
   "outputs": [
    {
     "name": "stdout",
     "output_type": "stream",
     "text": [
      "2969 6299 9629\n",
      "CPU times: user 57.2 ms, sys: 725 µs, total: 57.9 ms\n",
      "Wall time: 57.6 ms\n"
     ]
    },
    {
     "data": {
      "text/plain": [
       "True"
      ]
     },
     "execution_count": 168,
     "metadata": {},
     "output_type": "execute_result"
    }
   ],
   "source": [
    "%time find_prime_permutations()"
   ]
  },
  {
   "cell_type": "markdown",
   "metadata": {
    "collapsed": true
   },
   "source": [
    "## Problem 50.\n",
    "\n",
    "41은 소수이면서 다음과 같은 6개의 연속된 소수의 합으로도 나타낼 수 있습니다.  \n",
    "\n",
    "41 = 2 + 3 + 5 + 7 + 11 + 13  \n",
    "이것은 100 이하에서는 가장 길게 연속된 소수의 합으로 이루어진 소수입니다.  \n",
    "\n",
    "1000 이하에서는 953이 연속된 소수 21개의 합으로 가장 깁니다.  \n",
    "\n",
    "1백만 이하에서는 어떤 소수가 가장 길게 연속되는 소수의 합으로 표현될 수 있습니까?  "
   ]
  },
  {
   "cell_type": "code",
   "execution_count": 6,
   "metadata": {
    "collapsed": true
   },
   "outputs": [],
   "source": [
    "def find_most_consecutive_prime(limit):\n",
    "    prime_list = sieve_of_era(limit)\n",
    "    prime_set = set(prime_list)\n",
    "    \n",
    "    possible_max_count = 0\n",
    "    sum_of_max = 0\n",
    "    while sum_of_max < limit:\n",
    "        sum_of_max += prime_list[possible_max_count]\n",
    "        possible_max_count += 1\n",
    "    print(\"Possible Max Count:\", possible_max_count)\n",
    "    \n",
    "    start_index = 0\n",
    "    sum_of_prime = 0\n",
    "    while sum_of_prime not in prime_set:\n",
    "        if sum_of_prime > limit:\n",
    "            possible_max_count -= 1\n",
    "            start_index = 0\n",
    "        sum_of_prime = sum(prime_list[start_index:start_index+possible_max_count])\n",
    "        start_index += 1\n",
    "    print(\"Consecutive Prime Count:\", possible_max_count)\n",
    "    return sum_of_prime\n",
    "    \n",
    "def sieve_of_era(num):\n",
    "    sieve_list = [True] * num\n",
    "    start_num = 2\n",
    "    ##Sieve of Eratosthenes\n",
    "    for i in range(start_num, int(num**0.5)+1):\n",
    "        if sieve_list[i]:\n",
    "            sieve_list[i*i::i] = [False] * len(sieve_list[i*i::i])\n",
    "    return [i for i in range(2, num) if sieve_list[i]]"
   ]
  },
  {
   "cell_type": "code",
   "execution_count": 7,
   "metadata": {
    "collapsed": false
   },
   "outputs": [
    {
     "name": "stdout",
     "output_type": "stream",
     "text": [
      "Possible Max Count: 25\n",
      "Consecutive Prime Count: 21\n"
     ]
    },
    {
     "data": {
      "text/plain": [
       "953"
      ]
     },
     "execution_count": 7,
     "metadata": {},
     "output_type": "execute_result"
    }
   ],
   "source": [
    "find_most_consecutive_prime(limit = 1000)"
   ]
  },
  {
   "cell_type": "code",
   "execution_count": 8,
   "metadata": {
    "collapsed": false
   },
   "outputs": [
    {
     "name": "stdout",
     "output_type": "stream",
     "text": [
      "Possible Max Count: 547\n",
      "Consecutive Prime Count: 543\n",
      "CPU times: user 127 ms, sys: 3.77 ms, total: 131 ms\n",
      "Wall time: 130 ms\n"
     ]
    },
    {
     "data": {
      "text/plain": [
       "997651"
      ]
     },
     "execution_count": 8,
     "metadata": {},
     "output_type": "execute_result"
    }
   ],
   "source": [
    "%time find_most_consecutive_prime(limit = 1000000)"
   ]
  },
  {
   "cell_type": "code",
   "execution_count": null,
   "metadata": {
    "collapsed": true
   },
   "outputs": [],
   "source": []
  }
 ],
 "metadata": {
  "kernelspec": {
   "display_name": "Python 3",
   "language": "python",
   "name": "python3"
  },
  "language_info": {
   "codemirror_mode": {
    "name": "ipython",
    "version": 3
   },
   "file_extension": ".py",
   "mimetype": "text/x-python",
   "name": "python",
   "nbconvert_exporter": "python",
   "pygments_lexer": "ipython3",
   "version": "3.5.1"
  }
 },
 "nbformat": 4,
 "nbformat_minor": 0
}
