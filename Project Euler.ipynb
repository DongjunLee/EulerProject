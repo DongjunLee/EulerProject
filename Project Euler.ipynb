{
 "cells": [
  {
   "cell_type": "markdown",
   "metadata": {},
   "source": [
    "# Problem 1\n",
    "\n",
    "10보다 작은 자연수 중에서 3 또는 5의 배수는 3, 5, 6, 9 이고, 이것을 모두 더하면 23입니다.\n",
    "\n",
    "1000보다 작은 자연수 중에서 3 또는 5의 배수를 모두 더하면 얼마일까요?"
   ]
  },
  {
   "cell_type": "code",
   "execution_count": null,
   "metadata": {
    "collapsed": false
   },
   "outputs": [],
   "source": [
    "result = 0\n",
    "for i in xrange(1000):\n",
    "    if (i%3 == 0) or (i%5 == 0):\n",
    "        result += i\n",
    "print(result)"
   ]
  },
  {
   "cell_type": "markdown",
   "metadata": {
    "collapsed": false
   },
   "source": [
    "## Problem 2\n",
    "\n",
    "피보나치 수열의 각 항은 바로 앞의 항 두 개를 더한 것이 됩니다. 1과 2로 시작하는 경우 이 수열은 아래와 같습니다.\n",
    "\n",
    "1, 2, 3, 5, 8, 13, 21, 34, 55, 89, ...\n",
    "짝수이면서 4백만 이하인 모든 항을 더하면 얼마가 됩니까?"
   ]
  },
  {
   "cell_type": "code",
   "execution_count": null,
   "metadata": {
    "collapsed": false
   },
   "outputs": [],
   "source": [
    "fibonacci = [1,2]\n",
    "\n",
    "while fibonacci[len(fibonacci)-1] < 4000000:\n",
    "    fibonacci_length = len(fibonacci)\n",
    "    num1 = fibonacci[fibonacci_length-1]\n",
    "    num2 = fibonacci[fibonacci_length-2]\n",
    "    next_num = num1 + num2\n",
    "    fibonacci.append(next_num)"
   ]
  },
  {
   "cell_type": "code",
   "execution_count": null,
   "metadata": {
    "collapsed": false
   },
   "outputs": [],
   "source": [
    "fibonacci_even = list(filter(lambda x: x%2==0, fibonacci))"
   ]
  },
  {
   "cell_type": "code",
   "execution_count": null,
   "metadata": {
    "collapsed": false
   },
   "outputs": [],
   "source": [
    "print(sum(fibonacci_even))"
   ]
  },
  {
   "cell_type": "markdown",
   "metadata": {
    "collapsed": false
   },
   "source": [
    "## Problem 3\n",
    "\n",
    "어떤 수를 소수의 곱으로만 나타내는 것을 소인수분해라 하고, 이 소수들을 그 수의 소인수라고 합니다.\n",
    "예를 들면 13195의 소인수는 5, 7, 13, 29 입니다.\n",
    "\n",
    "600851475143의 소인수 중에서 가장 큰 수를 구하세요."
   ]
  },
  {
   "cell_type": "code",
   "execution_count": null,
   "metadata": {
    "collapsed": false
   },
   "outputs": [],
   "source": [
    "def prime_factorization(num):\n",
    "    prime_list = []\n",
    "    prime = 2\n",
    "    \n",
    "    while not num == 1:\n",
    "        if num % prime == 0:\n",
    "            prime_list.append(prime)\n",
    "            num /= prime\n",
    "        elif num <= prime:\n",
    "            prime_list.append(num)\n",
    "            num /= num\n",
    "        prime += 1\n",
    "    print(prime_list) \n",
    "    print(max(prime_list))"
   ]
  },
  {
   "cell_type": "code",
   "execution_count": null,
   "metadata": {
    "collapsed": false
   },
   "outputs": [],
   "source": [
    "prime_factorization(13195)"
   ]
  },
  {
   "cell_type": "code",
   "execution_count": null,
   "metadata": {
    "collapsed": false
   },
   "outputs": [],
   "source": [
    "prime_factorization(600851475143)"
   ]
  },
  {
   "cell_type": "markdown",
   "metadata": {
    "collapsed": true
   },
   "source": [
    "## Problem 4\n",
    "\n",
    "앞에서부터 읽을 때나 뒤에서부터 읽을 때나 모양이 같은 수를 대칭수(palindrome)라고 부릅니다.\n",
    "\n",
    "두 자리 수를 곱해 만들 수 있는 대칭수 중 가장 큰 수는 9009 (= 91 × 99) 입니다.\n",
    "\n",
    "세 자리 수를 곱해 만들 수 있는 가장 큰 대칭수는 얼마입니까?"
   ]
  },
  {
   "cell_type": "code",
   "execution_count": null,
   "metadata": {
    "collapsed": false
   },
   "outputs": [],
   "source": [
    "def make_palindromes_by_multiply(num_of_digit):\n",
    "    under = pow(10, num_of_digit-1); upper = pow(10, num_of_digit)-1\n",
    "    print(under, upper)\n",
    "    num_list = []\n",
    "    for i in range(upper, under, -1):\n",
    "        for j in range(upper, under, -1):\n",
    "            num_list.append(i*j)\n",
    "    num_list.sort(reverse=True)\n",
    "\n",
    "    palin_list = list(filter(lambda x: is_palindromes(x), num_list))\n",
    "    return palin_list\n",
    "    \n",
    "def is_palindromes(num):\n",
    "    num_str = str(num)\n",
    "    num_length = len(num_str)\n",
    "    for i in range(int(num_length/2)):\n",
    "        front = i; back = (len(num_str)-1)-i;\n",
    "        if num_str[front] != num_str[back]:\n",
    "            return False\n",
    "    return True\n",
    "    "
   ]
  },
  {
   "cell_type": "code",
   "execution_count": null,
   "metadata": {
    "collapsed": false
   },
   "outputs": [],
   "source": [
    "palin_list = make_palindromes_by_multiply(3)\n",
    "print(max(palin_list))"
   ]
  },
  {
   "cell_type": "markdown",
   "metadata": {
    "collapsed": true
   },
   "source": [
    "## Problem 5\n",
    "\n",
    "\n",
    "1 ~ 10 사이의 어떤 수로도 나누어 떨어지는 가장 작은 수는 2520입니다.\n",
    "\n",
    "그러면 1 ~ 20 사이의 어떤 수로도 나누어 떨어지는 가장 작은 수는 얼마입니까?\n",
    "\n"
   ]
  },
  {
   "cell_type": "code",
   "execution_count": null,
   "metadata": {
    "collapsed": false
   },
   "outputs": [],
   "source": [
    "def find_minimum_all_divide(number):\n",
    "    num_list = list(range(2, (number+1)))\n",
    "    prime_list = [prime_factorization2(num) for num in num_list]\n",
    "    prime_dic = max_prime_dic(prime_list)\n",
    "             \n",
    "    result = 1\n",
    "    for key, value in prime_dic.items(): \n",
    "        result *= pow(key, value) \n",
    "    print(result)\n",
    "    \n",
    "def prime_factorization2(number):\n",
    "    prime_list = []\n",
    "    prime = 2\n",
    "    \n",
    "    while not number == 1:\n",
    "        if number % prime == 0:\n",
    "            factor = prime\n",
    "        elif number <= prime:\n",
    "            factor = int(number)\n",
    "        else:\n",
    "            prime += 1\n",
    "            continue\n",
    "            \n",
    "        prime += 1\n",
    "        number /= factor\n",
    "        \n",
    "        if is_prime(factor):\n",
    "            prime_list.append(factor)\n",
    "        else:\n",
    "            prime_list += prime_factorization2(factor)\n",
    "        \n",
    "    return prime_list\n",
    "\n",
    "def is_prime(number):\n",
    "    num_list = list(range(2, number))\n",
    "    for num in num_list:\n",
    "        if number%num == 0:\n",
    "            return False\n",
    "    return True\n",
    "\n",
    "def counter(num_list):\n",
    "    dic = {}\n",
    "    for num in num_list:\n",
    "        if num in dic:\n",
    "            dic[num] += 1\n",
    "        else:\n",
    "            dic[num] = 1\n",
    "    return dic\n",
    "\n",
    "def max_prime_dic(prime_list):\n",
    "    max_prime_dic = {}\n",
    "    for primes in prime_list:\n",
    "        num_counter = counter(primes)\n",
    "        for key, value in num_counter.items():\n",
    "            if key in max_prime_dic:\n",
    "                if max_prime_dic[key] < value:\n",
    "                    max_prime_dic[key] = value\n",
    "            else:\n",
    "                max_prime_dic[key] = value\n",
    "    return max_prime_dic"
   ]
  },
  {
   "cell_type": "code",
   "execution_count": null,
   "metadata": {
    "collapsed": false
   },
   "outputs": [],
   "source": [
    "find_minimum_all_divide(10)"
   ]
  },
  {
   "cell_type": "code",
   "execution_count": null,
   "metadata": {
    "collapsed": false
   },
   "outputs": [],
   "source": [
    "%time res = find_minimum_all_divide(20)"
   ]
  },
  {
   "cell_type": "markdown",
   "metadata": {
    "collapsed": true
   },
   "source": [
    "## Problem 6.\n",
    "\n",
    "1부터 10까지 자연수를 각각 제곱해 더하면 다음과 같습니다 (제곱의 합).\n",
    "\n",
    "12 + 22 + ... + 102 = 385\n",
    "1부터 10을 먼저 더한 다음에 그 결과를 제곱하면 다음과 같습니다 (합의 제곱).\n",
    "\n",
    "(1 + 2 + ... + 10)2 = 552 = 3025\n",
    "따라서 1부터 10까지 자연수에 대해 \"합의 제곱\"과 \"제곱의 합\" 의 차이는 3025 - 385 = 2640 이 됩니다.\n",
    "\n",
    "그러면 1부터 100까지 자연수에 대해 \"합의 제곱\"과 \"제곱의 합\"의 차이는 얼마입니까?"
   ]
  },
  {
   "cell_type": "code",
   "execution_count": null,
   "metadata": {
    "collapsed": false
   },
   "outputs": [],
   "source": [
    "def square_of_sum(num):\n",
    "    sum_num = sum(list(range(1, num+1)))\n",
    "    return sum_num**2\n",
    "\n",
    "def num_of_square(num):\n",
    "    num_list = list(range(1, num+1))\n",
    "    square_list = list(map(lambda x: x**2, num_list))\n",
    "    return sum(square_list)"
   ]
  },
  {
   "cell_type": "code",
   "execution_count": null,
   "metadata": {
    "collapsed": false
   },
   "outputs": [],
   "source": [
    "print(square_of_sum(10) - num_of_square(10))"
   ]
  },
  {
   "cell_type": "code",
   "execution_count": null,
   "metadata": {
    "collapsed": false
   },
   "outputs": [],
   "source": [
    "num = 100\n",
    "%time res = print(square_of_sum(num) - num_of_square(num)) "
   ]
  },
  {
   "cell_type": "markdown",
   "metadata": {
    "collapsed": true
   },
   "source": [
    "## Problem 7.\n",
    "\n",
    "소수를 크기 순으로 나열하면 2, 3, 5, 7, 11, 13, ... 과 같이 됩니다.\n",
    "\n",
    "이 때 10,001번째의 소수를 구하세요."
   ]
  },
  {
   "cell_type": "code",
   "execution_count": 2,
   "metadata": {
    "collapsed": false
   },
   "outputs": [],
   "source": [
    "def find_nth_prime1(nth):\n",
    "    prime_nth = 1\n",
    "    number = 2\n",
    "    while True:\n",
    "        if is_prime(number):\n",
    "            if prime_nth is nth:\n",
    "                return number\n",
    "            prime_nth += 1\n",
    "        number += 1\n",
    "    return number\n",
    "    \n",
    "def is_prime(number):\n",
    "    for i in range(2, number):\n",
    "        if number%i == 0:\n",
    "            return False\n",
    "    return True\n",
    "\n",
    "def find_nth_prime2(nth):\n",
    "    num_list = list(range(2, nth*11))\n",
    "    for num in num_list:\n",
    "        num_list = delete_except_prime(num, num_list)\n",
    "    return num_list[nth-1]\n",
    "\n",
    "def delete_except_prime(prime, num_list):\n",
    "    for num in num_list:\n",
    "        if num is prime:\n",
    "            continue\n",
    "        if num%prime == 0:\n",
    "            num_list.remove(num)\n",
    "    return num_list"
   ]
  },
  {
   "cell_type": "code",
   "execution_count": 3,
   "metadata": {
    "collapsed": false
   },
   "outputs": [
    {
     "name": "stdout",
     "output_type": "stream",
     "text": [
      "find_nth_prime1 :  541\n",
      "CPU times: user 3.03 ms, sys: 19 µs, total: 3.05 ms\n",
      "Wall time: 3.08 ms\n"
     ]
    }
   ],
   "source": [
    "%time res1 = print(\"find_nth_prime1 : \", find_nth_prime1(100))"
   ]
  },
  {
   "cell_type": "code",
   "execution_count": 4,
   "metadata": {
    "collapsed": false
   },
   "outputs": [
    {
     "name": "stdout",
     "output_type": "stream",
     "text": [
      "find_nth_prime2 :  541\n",
      "CPU times: user 7.65 ms, sys: 68 µs, total: 7.71 ms\n",
      "Wall time: 7.74 ms\n"
     ]
    }
   ],
   "source": [
    "%time res2 = print(\"find_nth_prime2 : \", find_nth_prime2(100))"
   ]
  },
  {
   "cell_type": "code",
   "execution_count": null,
   "metadata": {
    "collapsed": false
   },
   "outputs": [],
   "source": [
    "#%time res3 = print(find_nth_prime1(10001))\n",
    "# 수가 작은 경우에서는 find_nth_prime1의 속도가 빠르지만, 숫자가 조금만 더 커지면 기하급수적으로 느려짐."
   ]
  },
  {
   "cell_type": "code",
   "execution_count": 5,
   "metadata": {
    "collapsed": false
   },
   "outputs": [
    {
     "name": "stdout",
     "output_type": "stream",
     "text": [
      "104743\n",
      "CPU times: user 46.9 s, sys: 134 ms, total: 47.1 s\n",
      "Wall time: 47.2 s\n"
     ]
    }
   ],
   "source": [
    "%time res4 = print(find_nth_prime2(10001))"
   ]
  },
  {
   "cell_type": "markdown",
   "metadata": {
    "collapsed": true
   },
   "source": [
    "## Problem 8. \n",
    "\n",
    "다음은 연속된 1000자리 숫자입니다 (읽기 좋게 50자리씩 잘라놓음).\n",
    "\n",
    "73167176531330624919225119674426574742355349194934\n",
    "96983520312774506326239578318016984801869478851843\n",
    "85861560789112949495459501737958331952853208805511\n",
    "12540698747158523863050715693290963295227443043557\n",
    "66896648950445244523161731856403098711121722383113\n",
    "62229893423380308135336276614282806444486645238749\n",
    "30358907296290491560440772390713810515859307960866\n",
    "70172427121883998797908792274921901699720888093776\n",
    "65727333001053367881220235421809751254540594752243\n",
    "52584907711670556013604839586446706324415722155397\n",
    "53697817977846174064955149290862569321978468622482\n",
    "83972241375657056057490261407972968652414535100474\n",
    "82166370484403199890008895243450658541227588666881\n",
    "16427171479924442928230863465674813919123162824586\n",
    "17866458359124566529476545682848912883142607690042\n",
    "24219022671055626321111109370544217506941658960408\n",
    "07198403850962455444362981230987879927244284909188\n",
    "84580156166097919133875499200524063689912560717606\n",
    "05886116467109405077541002256983155200055935729725\n",
    "71636269561882670428252483600823257530420752963450\n",
    "\n",
    "여기서 붉게 표시된 71112의 경우 7, 1, 1, 1, 2 각 숫자를 모두 곱하면 14가 됩니다.\n",
    "\n",
    "이런 식으로 맨 처음 (7 × 3 × 1 × 6 × 7 = 882) 부터 맨 끝 (6 × 3 × 4 × 5 × 0 = 0) 까지 5자리 숫자들의 곱을 구할 수 있습니다.\n",
    "이렇게 구할 수 있는 5자리 숫자의 곱 중에서 가장 큰 값은 얼마입니까?"
   ]
  },
  {
   "cell_type": "code",
   "execution_count": 15,
   "metadata": {
    "collapsed": false
   },
   "outputs": [],
   "source": [
    "def find_max_5num_multiply():\n",
    "    numbers = init_number()\n",
    "    max_multiply = 0\n",
    "    for i in range(len(numbers)):\n",
    "        multiply = 1\n",
    "        for j in range(5):\n",
    "            try:\n",
    "                multiply *= int(numbers[i+j])\n",
    "                if multiply > max_multiply:\n",
    "                    max_multiply = multiply\n",
    "            except IndexError as e:\n",
    "                continue\n",
    "    return max_multiply\n",
    "    \n",
    "def init_number():\n",
    "    num_list = [\n",
    "        \"73167176531330624919225119674426574742355349194934\",\n",
    "        \"96983520312774506326239578318016984801869478851843\",\n",
    "        \"85861560789112949495459501737958331952853208805511\",\n",
    "        \"12540698747158523863050715693290963295227443043557\",\n",
    "        \"66896648950445244523161731856403098711121722383113\",\n",
    "        \"62229893423380308135336276614282806444486645238749\",\n",
    "        \"30358907296290491560440772390713810515859307960866\",\n",
    "        \"70172427121883998797908792274921901699720888093776\",\n",
    "        \"65727333001053367881220235421809751254540594752243\",\n",
    "        \"52584907711670556013604839586446706324415722155397\",\n",
    "        \"53697817977846174064955149290862569321978468622482\",\n",
    "        \"83972241375657056057490261407972968652414535100474\",\n",
    "        \"82166370484403199890008895243450658541227588666881\",\n",
    "        \"16427171479924442928230863465674813919123162824586\",\n",
    "        \"17866458359124566529476545682848912883142607690042\",\n",
    "        \"24219022671055626321111109370544217506941658960408\",\n",
    "        \"07198403850962455444362981230987879927244284909188\",\n",
    "        \"84580156166097919133875499200524063689912560717606\",\n",
    "        \"05886116467109405077541002256983155200055935729725\",\n",
    "        \"71636269561882670428252483600823257530420752963450\"\n",
    "    ]\n",
    "    \n",
    "    numbers = \"\"\n",
    "    for num in num_list:\n",
    "        numbers += num\n",
    "    return numbers"
   ]
  },
  {
   "cell_type": "code",
   "execution_count": 17,
   "metadata": {
    "collapsed": false
   },
   "outputs": [
    {
     "name": "stdout",
     "output_type": "stream",
     "text": [
      "40824\n",
      "CPU times: user 2.77 ms, sys: 2 µs, total: 2.78 ms\n",
      "Wall time: 2.78 ms\n"
     ]
    }
   ],
   "source": [
    "%time res = print(find_max_5num_multiply())"
   ]
  },
  {
   "cell_type": "code",
   "execution_count": null,
   "metadata": {
    "collapsed": true
   },
   "outputs": [],
   "source": []
  }
 ],
 "metadata": {
  "kernelspec": {
   "display_name": "Python 3",
   "language": "python",
   "name": "python3"
  },
  "language_info": {
   "codemirror_mode": {
    "name": "ipython",
    "version": 3
   },
   "file_extension": ".py",
   "mimetype": "text/x-python",
   "name": "python",
   "nbconvert_exporter": "python",
   "pygments_lexer": "ipython3",
   "version": "3.5.1"
  }
 },
 "nbformat": 4,
 "nbformat_minor": 0
}
