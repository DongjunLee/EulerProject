{
 "cells": [
  {
   "cell_type": "markdown",
   "metadata": {},
   "source": [
    "# Problem 1\n",
    "\n",
    "10보다 작은 자연수 중에서 3 또는 5의 배수는 3, 5, 6, 9 이고, 이것을 모두 더하면 23입니다.\n",
    "\n",
    "1000보다 작은 자연수 중에서 3 또는 5의 배수를 모두 더하면 얼마일까요?"
   ]
  },
  {
   "cell_type": "code",
   "execution_count": null,
   "metadata": {
    "collapsed": false
   },
   "outputs": [],
   "source": [
    "result = 0\n",
    "for i in xrange(1000):\n",
    "    if (i%3 == 0) or (i%5 == 0):\n",
    "        result += i\n",
    "print(result)"
   ]
  },
  {
   "cell_type": "markdown",
   "metadata": {
    "collapsed": false
   },
   "source": [
    "## Problem 2\n",
    "\n",
    "피보나치 수열의 각 항은 바로 앞의 항 두 개를 더한 것이 됩니다. 1과 2로 시작하는 경우 이 수열은 아래와 같습니다.\n",
    "\n",
    "1, 2, 3, 5, 8, 13, 21, 34, 55, 89, ...\n",
    "짝수이면서 4백만 이하인 모든 항을 더하면 얼마가 됩니까?"
   ]
  },
  {
   "cell_type": "code",
   "execution_count": null,
   "metadata": {
    "collapsed": false
   },
   "outputs": [],
   "source": [
    "fibonacci = [1,2]\n",
    "\n",
    "while fibonacci[len(fibonacci)-1] < 4000000:\n",
    "    fibonacci_length = len(fibonacci)\n",
    "    num1 = fibonacci[fibonacci_length-1]\n",
    "    num2 = fibonacci[fibonacci_length-2]\n",
    "    next_num = num1 + num2\n",
    "    fibonacci.append(next_num)"
   ]
  },
  {
   "cell_type": "code",
   "execution_count": null,
   "metadata": {
    "collapsed": false
   },
   "outputs": [],
   "source": [
    "fibonacci_even = list(filter(lambda x: x%2==0, fibonacci))"
   ]
  },
  {
   "cell_type": "code",
   "execution_count": null,
   "metadata": {
    "collapsed": false
   },
   "outputs": [],
   "source": [
    "print(sum(fibonacci_even))"
   ]
  },
  {
   "cell_type": "markdown",
   "metadata": {
    "collapsed": false
   },
   "source": [
    "## Problem 3\n",
    "\n",
    "어떤 수를 소수의 곱으로만 나타내는 것을 소인수분해라 하고, 이 소수들을 그 수의 소인수라고 합니다.\n",
    "예를 들면 13195의 소인수는 5, 7, 13, 29 입니다.\n",
    "\n",
    "600851475143의 소인수 중에서 가장 큰 수를 구하세요."
   ]
  },
  {
   "cell_type": "code",
   "execution_count": null,
   "metadata": {
    "collapsed": false
   },
   "outputs": [],
   "source": [
    "def prime_factorization(num):\n",
    "    prime_list = []\n",
    "    prime = 2\n",
    "    \n",
    "    while not num == 1:\n",
    "        if num % prime == 0:\n",
    "            prime_list.append(prime)\n",
    "            num /= prime\n",
    "        elif num <= prime:\n",
    "            prime_list.append(num)\n",
    "            num /= num\n",
    "        prime += 1\n",
    "    print(prime_list) \n",
    "    print(max(prime_list))"
   ]
  },
  {
   "cell_type": "code",
   "execution_count": null,
   "metadata": {
    "collapsed": false
   },
   "outputs": [],
   "source": [
    "prime_factorization(13195)"
   ]
  },
  {
   "cell_type": "code",
   "execution_count": null,
   "metadata": {
    "collapsed": false
   },
   "outputs": [],
   "source": [
    "prime_factorization(600851475143)"
   ]
  },
  {
   "cell_type": "markdown",
   "metadata": {
    "collapsed": true
   },
   "source": [
    "## Problem 4\n",
    "\n",
    "앞에서부터 읽을 때나 뒤에서부터 읽을 때나 모양이 같은 수를 대칭수(palindrome)라고 부릅니다.\n",
    "\n",
    "두 자리 수를 곱해 만들 수 있는 대칭수 중 가장 큰 수는 9009 (= 91 × 99) 입니다.\n",
    "\n",
    "세 자리 수를 곱해 만들 수 있는 가장 큰 대칭수는 얼마입니까?"
   ]
  },
  {
   "cell_type": "code",
   "execution_count": null,
   "metadata": {
    "collapsed": false
   },
   "outputs": [],
   "source": [
    "def make_palindromes_by_multiply(num_of_digit):\n",
    "    under = pow(10, num_of_digit-1); upper = pow(10, num_of_digit)-1\n",
    "    print(under, upper)\n",
    "    num_list = []\n",
    "    for i in range(upper, under, -1):\n",
    "        for j in range(upper, under, -1):\n",
    "            num_list.append(i*j)\n",
    "    num_list.sort(reverse=True)\n",
    "\n",
    "    palin_list = list(filter(lambda x: is_palindromes(x), num_list))\n",
    "    return palin_list\n",
    "    \n",
    "def is_palindromes(num):\n",
    "    num_str = str(num)\n",
    "    num_length = len(num_str)\n",
    "    for i in range(int(num_length/2)):\n",
    "        front = i; back = (len(num_str)-1)-i;\n",
    "        if num_str[front] != num_str[back]:\n",
    "            return False\n",
    "    return True\n",
    "    "
   ]
  },
  {
   "cell_type": "code",
   "execution_count": null,
   "metadata": {
    "collapsed": false
   },
   "outputs": [],
   "source": [
    "palin_list = make_palindromes_by_multiply(3)\n",
    "print(max(palin_list))"
   ]
  },
  {
   "cell_type": "markdown",
   "metadata": {
    "collapsed": true
   },
   "source": [
    "## Problem 5\n",
    "\n",
    "\n",
    "1 ~ 10 사이의 어떤 수로도 나누어 떨어지는 가장 작은 수는 2520입니다.\n",
    "\n",
    "그러면 1 ~ 20 사이의 어떤 수로도 나누어 떨어지는 가장 작은 수는 얼마입니까?\n",
    "\n"
   ]
  },
  {
   "cell_type": "code",
   "execution_count": null,
   "metadata": {
    "collapsed": false
   },
   "outputs": [],
   "source": [
    "def find_minimum_all_divide(number):\n",
    "    num_list = list(range(2, (number+1)))\n",
    "    prime_list = [prime_factorization2(num) for num in num_list]\n",
    "    prime_dic = max_prime_dic(prime_list)\n",
    "             \n",
    "    result = 1\n",
    "    for key, value in prime_dic.items(): \n",
    "        result *= pow(key, value) \n",
    "    print(result)\n",
    "    \n",
    "def prime_factorization2(number):\n",
    "    prime_list = []\n",
    "    prime = 2\n",
    "    \n",
    "    while not number == 1:\n",
    "        if number % prime == 0:\n",
    "            factor = prime\n",
    "        elif number <= prime:\n",
    "            factor = int(number)\n",
    "        else:\n",
    "            prime += 1\n",
    "            continue\n",
    "            \n",
    "        prime += 1\n",
    "        number /= factor\n",
    "        \n",
    "        if is_prime(factor):\n",
    "            prime_list.append(factor)\n",
    "        else:\n",
    "            prime_list += prime_factorization2(factor)\n",
    "        \n",
    "    return prime_list\n",
    "\n",
    "def is_prime(number):\n",
    "    num_list = list(range(2, number))\n",
    "    for num in num_list:\n",
    "        if number%num == 0:\n",
    "            return False\n",
    "    return True\n",
    "\n",
    "def counter(num_list):\n",
    "    dic = {}\n",
    "    for num in num_list:\n",
    "        if num in dic:\n",
    "            dic[num] += 1\n",
    "        else:\n",
    "            dic[num] = 1\n",
    "    return dic\n",
    "\n",
    "def max_prime_dic(prime_list):\n",
    "    max_prime_dic = {}\n",
    "    for primes in prime_list:\n",
    "        num_counter = counter(primes)\n",
    "        for key, value in num_counter.items():\n",
    "            if key in max_prime_dic:\n",
    "                if max_prime_dic[key] < value:\n",
    "                    max_prime_dic[key] = value\n",
    "            else:\n",
    "                max_prime_dic[key] = value\n",
    "    return max_prime_dic"
   ]
  },
  {
   "cell_type": "code",
   "execution_count": null,
   "metadata": {
    "collapsed": false
   },
   "outputs": [],
   "source": [
    "find_minimum_all_divide(10)"
   ]
  },
  {
   "cell_type": "code",
   "execution_count": null,
   "metadata": {
    "collapsed": false
   },
   "outputs": [],
   "source": [
    "%time res = find_minimum_all_divide(20)"
   ]
  },
  {
   "cell_type": "code",
   "execution_count": null,
   "metadata": {
    "collapsed": true
   },
   "outputs": [],
   "source": []
  }
 ],
 "metadata": {
  "kernelspec": {
   "display_name": "Python 3",
   "language": "python",
   "name": "python3"
  },
  "language_info": {
   "codemirror_mode": {
    "name": "ipython",
    "version": 3
   },
   "file_extension": ".py",
   "mimetype": "text/x-python",
   "name": "python",
   "nbconvert_exporter": "python",
   "pygments_lexer": "ipython3",
   "version": "3.5.1"
  }
 },
 "nbformat": 4,
 "nbformat_minor": 0
}
