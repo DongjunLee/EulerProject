{
 "cells": [
  {
   "cell_type": "markdown",
   "metadata": {
    "collapsed": true
   },
   "source": [
    "## Problem 51\n",
    "\n",
    "두 자리 숫자 *3의 첫번째 자리를 여러가지로 바꿨을 때 가능한 아홉 가지의 결과 중에서 13, 23, 43, 53, 73, 83의 여섯 개는 소수입니다.  \n",
    "\n",
    "56ㅁㅁ3 의 3번째와 4번째 자리를 동일한 숫자로 바꿔서 만들어지는 10개의 다섯자리 숫자 중에서는 아래에서 보듯이 7개가 소수가 되며, 이것은 이런 식으로 7개의 소수가 만들어지는 첫번째 경우입니다. 이 소수 집단의 첫번째 수인 56003은 이런 성질을 갖는 가장 작은 소수입니다.  \n",
    "\n",
    "56003, 56113, 56333, 56443, 56663, 56773, 56993  \n",
    "위의 예처럼 원래의 일부를 동일한 숫자로 치환했을 때 8개의 소수 집단이 만들어지는 경우를 찾고, 그 집단에 속한 가장 작은 소수를 구하세요.  \n",
    "치환하는 자리는 인접하지 않아도 되고, 가장 앞부분을 치환하는 경우 거기에 0은 올 수 없습니다.  "
   ]
  },
  {
   "cell_type": "code",
   "execution_count": 93,
   "metadata": {
    "collapsed": false
   },
   "outputs": [],
   "source": [
    "def find_prime_digit_replacements():\n",
    "    result = False\n",
    "    prime_list = sieve_of_era(10**7)\n",
    "    \n",
    "    digit_5_prime_list = list(filter(lambda x: len(str(x))==5, prime_list))\n",
    "    digit_5_pattern_list = [\n",
    "        [True, True, True, False],\n",
    "        [True, True, False, True],\n",
    "        [True, False, True, True],\n",
    "        [False, True, True, True]\n",
    "    ]\n",
    "    \n",
    "    digit_6_prime_list = list(filter(lambda x: len(str(x))==6, prime_list))\n",
    "    digit_6_pattern_list = [\n",
    "        [True, True, True, False, False],\n",
    "        [True, True, False, True, False],\n",
    "        [True, True, False, False, True],\n",
    "        [True, False, True, True, False],\n",
    "        [True, False, True, False, True],\n",
    "        [True, False, False, True, True],\n",
    "        [False, True, True, True, False],\n",
    "        [False, True, True, False, True],\n",
    "        [False, True, False, True, True],\n",
    "        [False, False, True, True, True]\n",
    "    ]\n",
    "    \n",
    "    digit_5 = find(digit_5_pattern_list, digit_5_prime_list)\n",
    "    digit_6 = find(digit_6_pattern_list, digit_6_prime_list)\n",
    "    \n",
    "    return digit_5, digit_6\n",
    "            \n",
    "def sieve_of_era(num):\n",
    "    sieve_list = [True] * num\n",
    "    start_num = 2\n",
    "    ##Sieve of Eratosthenes\n",
    "    for i in range(start_num, int(num**0.5)+1):\n",
    "        if sieve_list[i]:\n",
    "            sieve_list[i*i::i] = [False] * len(sieve_list[i*i::i])\n",
    "    return [i for i in range(2, num) if sieve_list[i]]\n",
    "\n",
    "def find(pattern_list, prime_list):\n",
    "    result = False\n",
    "    for pattern in pattern_list:\n",
    "        cadidate_list = []\n",
    "        not_repeat_set = set()\n",
    "        for prime in prime_list:\n",
    "            if is_repeat_three_digit(prime, pattern):\n",
    "                cadidate_list.append(prime)\n",
    "                not_repeat_set.add(not_repeat_num(prime, pattern))\n",
    "                \n",
    "        if is_eight_prime_value_family(cadidate_list, pattern, not_repeat_set):\n",
    "            result = True\n",
    "            break\n",
    "    return result\n",
    "    \n",
    "def is_repeat_three_digit(num, pattern):\n",
    "    check_num = str(num)[:-1]\n",
    "    count = 1\n",
    "    prev = -1\n",
    "    \n",
    "    for i in range(len(pattern)):\n",
    "        if pattern[i]:\n",
    "            if prev == -1:\n",
    "                prev = check_num[i]\n",
    "            elif prev == check_num[i]:\n",
    "                count += 1\n",
    "                \n",
    "    if count == 3:\n",
    "        return True\n",
    "    else:\n",
    "        return False\n",
    "\n",
    "def not_repeat_num(prime, pattern):\n",
    "    prime = str(prime)\n",
    "    num = \"\"\n",
    "    for i in range(len(pattern)):\n",
    "        if not pattern[i]:\n",
    "            num += prime[i]\n",
    "    return num + prime[-1]\n",
    "\n",
    "import re\n",
    "def is_eight_prime_value_family(cadidate_list, pattern, not_repeat_set):\n",
    "    \n",
    "    cadidates = \",\".join(list(map(lambda x: str(x), cadidate_list)))\n",
    "    \n",
    "    for not_repeat_num in not_repeat_set:\n",
    "        not_repeat_index = 0\n",
    "        re_pattern = \"\"\n",
    "        for p in pattern:\n",
    "            if(p):\n",
    "                re_pattern += \"\\d\"\n",
    "            else:\n",
    "                re_pattern += not_repeat_num[not_repeat_index]\n",
    "                not_repeat_index += 1\n",
    "        re_pattern += not_repeat_num[not_repeat_index]\n",
    "        cons_list = re.findall(r\"\"+re_pattern, cadidates)\n",
    "        if len(cons_list) == 8:\n",
    "            print(\"Answer:\", cons_list)\n",
    "            return True\n",
    "    return False"
   ]
  },
  {
   "cell_type": "code",
   "execution_count": 94,
   "metadata": {
    "collapsed": false
   },
   "outputs": [
    {
     "name": "stdout",
     "output_type": "stream",
     "text": [
      "Answer: ['121313', '222323', '323333', '424343', '525353', '626363', '828383', '929393']\n",
      "CPU times: user 3.28 s, sys: 140 ms, total: 3.42 s\n",
      "Wall time: 3.43 s\n"
     ]
    },
    {
     "data": {
      "text/plain": [
       "(False, True)"
      ]
     },
     "execution_count": 94,
     "metadata": {},
     "output_type": "execute_result"
    }
   ],
   "source": [
    "%time find_prime_digit_replacements()"
   ]
  },
  {
   "cell_type": "markdown",
   "metadata": {
    "collapsed": true
   },
   "source": [
    "## Problem 52.\n",
    "\n",
    "125874를 2배 하면 251748이 되는데, 이 둘은 같은 숫자로 이루어져 있고 순서만 다릅니다.  \n",
    "\n",
    "2배, 3배, 4배, 5배, 6배의 결과도 같은 숫자로 이루어지는 가장 작은 수는 무엇입니까?  "
   ]
  },
  {
   "cell_type": "code",
   "execution_count": 5,
   "metadata": {
    "collapsed": false
   },
   "outputs": [],
   "source": [
    "def find_min_permuted_multiples():\n",
    "    is_found = False\n",
    "    result = 0\n",
    "    step = 1\n",
    "    while not is_found:\n",
    "        for i in range(10**step, (10**step)*2):\n",
    "            if is_permuted_multiple(i):\n",
    "                is_found = True\n",
    "                result = i\n",
    "                break\n",
    "        step += 1\n",
    "    return result\n",
    "            \n",
    "def is_permuted_multiple(num):\n",
    "    permute = \"\".join(sorted(str(num)))\n",
    "    for i in range(2, 6+1):\n",
    "        if permute != \"\".join(sorted(str(num*i))):\n",
    "            return False\n",
    "    return True"
   ]
  },
  {
   "cell_type": "code",
   "execution_count": 6,
   "metadata": {
    "collapsed": false
   },
   "outputs": [
    {
     "data": {
      "text/plain": [
       "142857"
      ]
     },
     "execution_count": 6,
     "metadata": {},
     "output_type": "execute_result"
    }
   ],
   "source": [
    "find_min_permuted_multiples()"
   ]
  },
  {
   "cell_type": "code",
   "execution_count": null,
   "metadata": {
    "collapsed": true
   },
   "outputs": [],
   "source": []
  }
 ],
 "metadata": {
  "kernelspec": {
   "display_name": "Python 3",
   "language": "python",
   "name": "python3"
  },
  "language_info": {
   "codemirror_mode": {
    "name": "ipython",
    "version": 3
   },
   "file_extension": ".py",
   "mimetype": "text/x-python",
   "name": "python",
   "nbconvert_exporter": "python",
   "pygments_lexer": "ipython3",
   "version": "3.5.1"
  }
 },
 "nbformat": 4,
 "nbformat_minor": 0
}
