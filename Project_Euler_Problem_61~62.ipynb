{
 "cells": [
  {
   "cell_type": "markdown",
   "metadata": {
    "collapsed": true
   },
   "source": [
    "## Problem 61\n",
    "\n",
    "삼각수, 사각수, 오각수 같은 다각수들은 아래의 공식으로 만들 수 있습니다.\n",
    "\n",
    "삼각수\tP3,n = n(n+1)/2\t1, 3, 6, 10, 15, ...  \n",
    "사각수\tP4,n = n^2\t1, 4, 9, 16, 25, ...  \n",
    "오각수\tP5,n = n(3n−1)/2\t1, 5, 12, 22, 35, ...  \n",
    "육각수\tP6,n = n(2n−1)\t1, 6, 15, 28, 45, ...  \n",
    "칠각수\tP7,n = n(5n−3)/2\t1, 7, 18, 34, 55, ...  \n",
    "팔각수\tP8,n = n(3n−2)\t1, 8, 21, 40, 65, ...  \n",
    "그런데 4자리 숫자 8128, 2882, 8281 (순서대로) 에는 세 가지의 재미있는 성질이 있습니다.\n",
    "\n",
    "1. 각 숫자들은 서로 꼬리를 물고 순환됩니다. 각 숫자의 뒤쪽 두 자리는 다음 숫자의 앞쪽 두 자리가 되는 식입니다.\n",
    "2. 각 숫자는 서로 다른 다각수인데, 여기서는 삼각수 (P3,127=8128), 사각수 (P4,91=8281), 오각수 (P5,44=2882)가 대응됩니다.\n",
    "3. 이런 성질을 갖는 4자리의 숫자 세 개는 이 숫자들이 유일합니다.\n",
    "\n",
    "위와 같이 순환되면서 서로 다른 다각수(삼각수 ~ 팔각수)이기도 한 4자리 숫자 여섯 개의 유일한 순서쌍을 찾고, 그 합을 구하세요."
   ]
  },
  {
   "cell_type": "code",
   "execution_count": 1,
   "metadata": {
    "collapsed": false
   },
   "outputs": [],
   "source": [
    "def find_cyclical_figurate_numbers():\n",
    "    poli_3_list = digit_4th_poligonal(lambda n: (n+1)*n / 2) \n",
    "    poli_4_list = digit_4th_poligonal(lambda n: n**2) \n",
    "    poli_5_list = digit_4th_poligonal(lambda n: (3*n-1)*n / 2) \n",
    "    poli_6_list = digit_4th_poligonal(lambda n: (2*n-1)*n) \n",
    "    poli_7_list = digit_4th_poligonal(lambda n: (5*n-3)*n / 2) \n",
    "    poli_8_list = digit_4th_poligonal(lambda n: (3*n-2)*n) \n",
    "    \n",
    "    p_list = [poli_8_list, poli_7_list, poli_6_list, \n",
    "             poli_5_list, poli_4_list, poli_3_list]\n",
    "    \n",
    "    result = []\n",
    "    for permutation in permutation_generator(list(range(6))):\n",
    "        copy_p_list = []\n",
    "        for p in permutation:\n",
    "            copy_p_list.append(p_list[int(p)])\n",
    "            \n",
    "        prev = 0\n",
    "        now = sum(map(lambda x: len(x), copy_p_list))\n",
    "        last_index = len(p_list)-1\n",
    "            \n",
    "        while prev != now:\n",
    "            copy_p_list[0] = list(filter(lambda x: is_cycle_front(x, copy_p_list[last_index]), copy_p_list[0]))\n",
    "            for i in range(len(copy_p_list)-1):\n",
    "                copy_p_list[i] = list(filter(lambda x: is_cycle_front(x, copy_p_list[i-1]), copy_p_list[i]))\n",
    "                copy_p_list[i] = list(filter(lambda x: is_cycle_back(x, copy_p_list[i+1]), copy_p_list[i]))\n",
    "            copy_p_list[last_index] = list(filter(lambda x: is_cycle_back(x, copy_p_list[0]), copy_p_list[last_index]))\n",
    "\n",
    "            prev = now\n",
    "            now = sum(map(lambda x: len(x), copy_p_list))\n",
    "            \n",
    "        if now == 6:\n",
    "            result = copy_p_list\n",
    "            print(result)\n",
    "            break\n",
    "        \n",
    "    return sum(map(lambda x: x[0], result))\n",
    "    \n",
    "def digit_4th_poligonal(poli_f):\n",
    "    poli_list = []\n",
    "    step = 1\n",
    "    poli_n = poli_f(step)\n",
    "    while poli_n < 10000:\n",
    "        if poli_n >= 1000:\n",
    "            poli_list.append(poli_n)\n",
    "        step += 1\n",
    "        poli_n = poli_f(step)\n",
    "    return poli_list\n",
    "\n",
    "def is_cycle_back(num, p_list):\n",
    "    for p in p_list:\n",
    "        if str(num)[2:] == str(p)[:2]:\n",
    "            return True\n",
    "    return False\n",
    "\n",
    "def is_cycle_front(num, p_list):\n",
    "    for p in p_list:\n",
    "        if str(num)[:2] == str(p)[2:]:\n",
    "            return True\n",
    "    return False\n",
    "\n",
    "def permutation_generator(items):\n",
    "    length = len(items)\n",
    "    def inner(ix=[]):\n",
    "        do_yield = len(ix) == length - 1\n",
    "        for i in range(0, length):\n",
    "            if i in ix: #avoid duplicates\n",
    "                continue\n",
    "            if do_yield:\n",
    "                yield tuple([items[y] for y in ix + [i]])\n",
    "            else:\n",
    "                for p in inner(ix + [i]):\n",
    "                    join_p = ''.join(map(lambda x:str(x), p))\n",
    "                    yield join_p\n",
    "    return inner()"
   ]
  },
  {
   "cell_type": "code",
   "execution_count": 2,
   "metadata": {
    "collapsed": false
   },
   "outputs": [
    {
     "name": "stdout",
     "output_type": "stream",
     "text": [
      "[[1281], [8128], [2882], [8256], [5625], [2512]]\n",
      "CPU times: user 82.3 ms, sys: 6.08 ms, total: 88.4 ms\n",
      "Wall time: 84 ms\n"
     ]
    },
    {
     "data": {
      "text/plain": [
       "28684"
      ]
     },
     "execution_count": 2,
     "metadata": {},
     "output_type": "execute_result"
    }
   ],
   "source": [
    "%time find_cyclical_figurate_numbers()"
   ]
  },
  {
   "cell_type": "markdown",
   "metadata": {},
   "source": [
    "## Problem 62.\n",
    "\n",
    "세제곱수인 41063625 (=345^3) 로 순열을 만들어보면,  \n",
    "그 중에서 56623104 (=384^3)와 66430125 (=405^3)가 또 세제곱수입니다.\n",
    "실제 41063625은, 자릿수로 만든 순열 중에서 3개가 세제곱수인 가장 작은 수입니다.\n",
    "\n",
    "그러면 자릿수로 만든 순열 중에서 5개가 세제곱수인 가장 작은 숫자는 무엇입니까?"
   ]
  },
  {
   "cell_type": "code",
   "execution_count": 93,
   "metadata": {
    "collapsed": false
   },
   "outputs": [],
   "source": [
    "from collections import Counter\n",
    "\n",
    "def find_cubic_permutations():\n",
    "    cubic_list = list(map(lambda x: x**3, range(5000, 10000)))\n",
    "    cc_list = list(map(lambda x: Counter(str(x)), cubic_list))\n",
    "    result = 0\n",
    "    for i in range(len(cc_list)):\n",
    "        p_count = 0\n",
    "        for j in range(i, len(cc_list)):\n",
    "            cc1 = cc_list[i]; cc2 = cc_list[j]\n",
    "            if cc1 == cc2:\n",
    "                p_count +=1\n",
    "        if p_count == 5:\n",
    "            result = cubic_list[i]\n",
    "            break\n",
    "    return result"
   ]
  },
  {
   "cell_type": "code",
   "execution_count": 94,
   "metadata": {
    "collapsed": false
   },
   "outputs": [
    {
     "name": "stdout",
     "output_type": "stream",
     "text": [
      "CPU times: user 65.5 ms, sys: 3.59 ms, total: 69.1 ms\n",
      "Wall time: 67.2 ms\n"
     ]
    },
    {
     "data": {
      "text/plain": [
       "127035954683"
      ]
     },
     "execution_count": 94,
     "metadata": {},
     "output_type": "execute_result"
    }
   ],
   "source": [
    "%time find_cubic_permutations()"
   ]
  },
  {
   "cell_type": "code",
   "execution_count": null,
   "metadata": {
    "collapsed": true
   },
   "outputs": [],
   "source": []
  }
 ],
 "metadata": {
  "kernelspec": {
   "display_name": "Python 2",
   "language": "python",
   "name": "python2"
  },
  "language_info": {
   "codemirror_mode": {
    "name": "ipython",
    "version": 2
   },
   "file_extension": ".py",
   "mimetype": "text/x-python",
   "name": "python",
   "nbconvert_exporter": "python",
   "pygments_lexer": "ipython2",
   "version": "2.7.10"
  }
 },
 "nbformat": 4,
 "nbformat_minor": 0
}
