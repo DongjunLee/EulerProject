{
 "cells": [
  {
   "cell_type": "markdown",
   "metadata": {
    "collapsed": true
   },
   "source": [
    "## Problem 21.\n",
    "\n",
    "n의 약수들 중에서 자신을 제외한 것의 합을 d(n)으로 정의했을 때,  \n",
    "서로 다른 두 정수 a, b에 대하여 d(a) = b 이고 d(b) = a 이면   \n",
    "a, b는 친화쌍이라 하고 a와 b를 각각 친화수(우애수)라고 합니다.  \n",
    "\n",
    "예를 들어 220의 약수는 자신을 제외하면 1, 2, 4, 5, 10, 11, 20, 22, 44, 55, 110 이므로 그 합은 d(220) = 284 입니다.  \n",
    "또 284의 약수는 자신을 제외하면 1, 2, 4, 71, 142 이므로 d(284) = 220 입니다.  \n",
    "따라서 220과 284는 친화쌍이 됩니다.  \n",
    "\n",
    "10000 이하의 친화수들을 모두 찾아서 그 합을 구하세요."
   ]
  },
  {
   "cell_type": "code",
   "execution_count": null,
   "metadata": {
    "collapsed": false
   },
   "outputs": [],
   "source": [
    "import math\n",
    "\n",
    "def find_sunm_of_amicable_numbers(num):\n",
    "    amicable_list = []\n",
    "    for i in range(1, num+1):\n",
    "        if i not in amicable_list:\n",
    "            num1 = get_sum_of_divisors(i)\n",
    "            num2 = get_sum_of_divisors(num1)\n",
    "            \n",
    "            if (i == num2) and (num1 != num2):\n",
    "                amicable_list.append(num1)\n",
    "                amicable_list.append(num2)\n",
    "        \n",
    "    return amicable_list\n",
    "    \n",
    "def get_sum_of_divisors(num):\n",
    "    divisor_list = [1]\n",
    "    \n",
    "    for i in range(2, int(math.sqrt(num))+1):\n",
    "        if num % i == 0:\n",
    "            divisor_list.append(i)\n",
    "            cross_i = int(num/i)\n",
    "            if i != cross_i:\n",
    "                divisor_list.append(cross_i)\n",
    "                \n",
    "    return sum(divisor_list)"
   ]
  },
  {
   "cell_type": "code",
   "execution_count": null,
   "metadata": {
    "collapsed": false
   },
   "outputs": [],
   "source": [
    "num1 = get_sum_of_divisors(220)\n",
    "num2 = get_sum_of_divisors(num1)\n",
    "\n",
    "print(num1, num2)"
   ]
  },
  {
   "cell_type": "code",
   "execution_count": null,
   "metadata": {
    "collapsed": false
   },
   "outputs": [],
   "source": [
    "%time sum(find_sunm_of_amicable_numbers(10000))"
   ]
  },
  {
   "cell_type": "markdown",
   "metadata": {
    "collapsed": true
   },
   "source": [
    "## Problem 22.\n",
    "\n",
    "\n",
    "여기 5천개 이상의 영문 이름들이 들어있는 46KB짜리 텍스트 파일0 [names.txt](http://euler.synap.co.kr/files/names.txt) 이 있습니다 (우클릭해서 다운로드 받으세요).  \n",
    "이제 각 이름에 대해서 아래와 같은 방법으로 점수를 매기고자 합니다.  \n",
    "\n",
    "- 먼저 모든 이름을 알파벳 순으로 정렬합니다.\n",
    "- 각 이름에 대해서, 그 이름을 이루는 알파벳에 해당하는 숫자(A=1, B=2, ..., Z=26)를 모두 더합니다.\n",
    "- 여기에 이 이름의 순번을 곱합니다.\n",
    "\n",
    "\n",
    "예를 들어 \"COLIN\"의 경우, 알파벳에 해당하는 숫자는 3, 15, 12, 9, 14이므로 합이 53, 그리고 정렬했을 때 938번째에 오므로 최종 점수는 938 × 53 = 49714가 됩니다.\n",
    "\n",
    "names.txt에 들어있는 모든 이름의 점수를 계산해서 더하면 얼마입니까?"
   ]
  },
  {
   "cell_type": "code",
   "execution_count": null,
   "metadata": {
    "collapsed": true
   },
   "outputs": [],
   "source": [
    "def find_sum_of_names_scores():\n",
    "    f= open(\"names.txt\", 'r')\n",
    "    name_list = f.read().split(\",\")\n",
    "    sorted_name_list = sorted(list(map(lambda x: x.replace(\"\\\"\", \"\"), name_list)))\n",
    "\n",
    "    result = 0\n",
    "    for i in range(len(sorted_name_list)):\n",
    "        index = (i+1)\n",
    "        word_number = 0\n",
    "        for alpabet in sorted_name_list[i]:\n",
    "            word_number += ord(alpabet) - (ord('A') - 1)\n",
    "        result += index * word_number\n",
    "    \n",
    "    return result"
   ]
  },
  {
   "cell_type": "code",
   "execution_count": null,
   "metadata": {
    "collapsed": false
   },
   "outputs": [],
   "source": [
    "%time print(find_sum_of_names_scores())"
   ]
  },
  {
   "cell_type": "markdown",
   "metadata": {
    "collapsed": true
   },
   "source": [
    "## Problem 23.\n",
    "\n",
    "자신을 제외한 약수(진약수)를 모두 더하면 자기 자신이 되는 수를 완전수라고 합니다.  \n",
    "예를 들어 28은 1 + 2 + 4 + 7 + 14 = 28 이므로 완전수입니다.  \n",
    "또, 진약수의 합이 자신보다 작으면 부족수, 자신보다 클 때는 초과수라고 합니다.  \n",
    "\n",
    "12는 1 + 2 + 3 + 4 + 6 = 16 > 12 로서 초과수 중에서는 가장 작습니다.  \n",
    "따라서 초과수 두 개의 합으로 나타낼 수 있는 수 중 가장 작은 수는 24 (= 12 + 12) 입니다.  \n",
    "\n",
    "해석학적인 방법을 사용하면, 28123을 넘는 모든 정수는 두 초과수의 합으로 표현 가능함을 보일 수가 있습니다.  \n",
    "두 초과수의 합으로 나타낼 수 없는 가장 큰 수는 실제로는 이 한계값보다 작지만, 해석학적인 방법으로는 더 이상 이 한계값을 낮출 수 없다고 합니다.  \n",
    "\n",
    "그렇다면, 초과수 두 개의 합으로 나타낼 수 없는 모든 양의 정수의 합은 얼마입니까?  "
   ]
  },
  {
   "cell_type": "code",
   "execution_count": 18,
   "metadata": {
    "collapsed": false
   },
   "outputs": [],
   "source": [
    "# Wolfram Mathworld’s discussion on Abundant Numbers : http://mathworld.wolfram.com/AbundantNumber.html\n",
    "\n",
    "def find_non_abundant_sums():\n",
    "    limit = 20161\n",
    "    number_list = list(range(1, limit+1))\n",
    "    abundant_set = set()\n",
    "    \n",
    "    result = 0\n",
    "    for number in range(1, len(number_list)):\n",
    "        if is_abundant(number):\n",
    "            abundant_set.add(number)\n",
    "        if not any( (number - abundant in abundant_set) for abundant in abundant_set ):\n",
    "            result += number\n",
    "    return result\n",
    "\n",
    "def is_abundant(num):\n",
    "    if get_sum_of_divisors(num) > num:\n",
    "        return True\n",
    "    else:\n",
    "        return False\n",
    "    \n",
    "import math   \n",
    "def get_sum_of_divisors(num):\n",
    "    divisor_list = [1]\n",
    "    \n",
    "    for i in range(2, int(math.sqrt(num))+1):\n",
    "        if num % i == 0:\n",
    "            divisor_list.append(i)\n",
    "            cross_i = int(num/i)\n",
    "            if i != cross_i:\n",
    "                divisor_list.append(cross_i)\n",
    "                \n",
    "    return sum(divisor_list)"
   ]
  },
  {
   "cell_type": "code",
   "execution_count": 20,
   "metadata": {
    "collapsed": false
   },
   "outputs": [
    {
     "name": "stdout",
     "output_type": "stream",
     "text": [
      "CPU times: user 711 ms, sys: 1.96 ms, total: 713 ms\n",
      "Wall time: 713 ms\n"
     ]
    },
    {
     "data": {
      "text/plain": [
       "4159710"
      ]
     },
     "execution_count": 20,
     "metadata": {},
     "output_type": "execute_result"
    }
   ],
   "source": [
    "%time find_non_abundant_sums()"
   ]
  },
  {
   "cell_type": "markdown",
   "metadata": {
    "collapsed": true
   },
   "source": [
    "## Problem 24.\n",
    "\n",
    "어떤 대상을 순서에 따라 배열한 것을 순열이라고 합니다. 예를 들어 3124는 숫자 1, 2, 3, 4로 만들 수 있는 순열 중 하나입니다.  \n",
    "\n",
    "이렇게 만들 수 있는 모든 순열을 숫자나 문자 순으로 늘어놓은 것을 사전식(lexicographic) 순서라고 합니다.  \n",
    "0, 1, 2로 만들 수 있는 사전식 순열은 다음과 같습니다.  \n",
    "\n",
    "012   021   102   120   201   210  \n",
    "0, 1, 2, 3, 4, 5, 6, 7, 8, 9로 만들 수 있는 사전식 순열에서 1,000,000번째는 무엇입니까?  "
   ]
  },
  {
   "cell_type": "code",
   "execution_count": 86,
   "metadata": {
    "collapsed": false
   },
   "outputs": [],
   "source": [
    "import functools\n",
    "\n",
    "def find_lexicographic_permutations(num_list, nth):\n",
    "    factorial_list = get_factorial_list(len(num_list))\n",
    "    nth_number = \"\"\n",
    "    \n",
    "    nth -= 1\n",
    "    nth %= factorial_list[len(num_list)-1]\n",
    "    \n",
    "    while nth != 0:\n",
    "        num_length = len(num_list) - 1\n",
    "        quotient, reminder = divmod(nth, factorial_list[num_length-1])\n",
    "        nth = reminder\n",
    "        \n",
    "        nth_number += str(num_list[quotient])\n",
    "        num_list.remove(num_list[quotient])\n",
    "    return nth_number + str(functools.reduce(lambda x,y: str(x)+str(y), num_list))\n",
    "    \n",
    "def get_factorial_list(num):\n",
    "    factorial_list = []\n",
    "    factorial = 1\n",
    "    for i in range(1, num+1):\n",
    "        factorial *= i\n",
    "        factorial_list.append(factorial)\n",
    "    return factorial_list"
   ]
  },
  {
   "cell_type": "code",
   "execution_count": 88,
   "metadata": {
    "collapsed": false
   },
   "outputs": [
    {
     "data": {
      "text/plain": [
       "'201'"
      ]
     },
     "execution_count": 88,
     "metadata": {},
     "output_type": "execute_result"
    }
   ],
   "source": [
    "find_lexicographic_permutations([0, 1, 2], 5) \n",
    "## => 201"
   ]
  },
  {
   "cell_type": "code",
   "execution_count": 90,
   "metadata": {
    "collapsed": false
   },
   "outputs": [
    {
     "name": "stdout",
     "output_type": "stream",
     "text": [
      "CPU times: user 33 µs, sys: 0 ns, total: 33 µs\n",
      "Wall time: 37.9 µs\n"
     ]
    },
    {
     "data": {
      "text/plain": [
       "'2783915460'"
      ]
     },
     "execution_count": 90,
     "metadata": {},
     "output_type": "execute_result"
    }
   ],
   "source": [
    "%time find_lexicographic_permutations([0, 1, 2, 3, 4, 5, 6, 7, 8, 9], 1000000) "
   ]
  },
  {
   "cell_type": "markdown",
   "metadata": {
    "collapsed": true
   },
   "source": [
    "## Problem 25.\n",
    "\n",
    "피보나치 수열은 아래와 같은 점화식으로 정의됩니다.  \n",
    "\n",
    "Fn = Fn-1 + Fn-2  (단, F1 = 1, F2 = 1).  \n",
    "이에 따라 수열을 12번째 항까지 차례대로 계산하면 다음과 같습니다.  \n",
    "\n",
    "F1 = 1  \n",
    "F2 = 1  \n",
    "F3 = 2  \n",
    "F4 = 3  \n",
    "F5 = 5  \n",
    "F6 = 8  \n",
    "F7 = 13  \n",
    "F8 = 21  \n",
    "F9 = 34  \n",
    "F10 = 55  \n",
    "F11 = 89  \n",
    "F12 = 144  \n",
    "수열의 값은 F12에서 처음으로 3자리가 됩니다.  \n",
    "\n",
    "피보나치 수열에서 값이 처음으로 1000자리가 되는 것은 몇번째 항입니까?"
   ]
  },
  {
   "cell_type": "code",
   "execution_count": 5,
   "metadata": {
    "collapsed": true
   },
   "outputs": [],
   "source": [
    "def find_nth_digit_fibonacci(nth):\n",
    "    fibonacci = [1, 1, 2]\n",
    "    index = 3\n",
    "    while len(str(fibonacci[2])) != nth:\n",
    "        fibonacci[0] = fibonacci[1]\n",
    "        fibonacci[1] = fibonacci[2]\n",
    "        fibonacci[2] = fibonacci[0] + fibonacci[1]\n",
    "        index += 1\n",
    "    return index"
   ]
  },
  {
   "cell_type": "code",
   "execution_count": 6,
   "metadata": {
    "collapsed": false
   },
   "outputs": [
    {
     "data": {
      "text/plain": [
       "12"
      ]
     },
     "execution_count": 6,
     "metadata": {},
     "output_type": "execute_result"
    }
   ],
   "source": [
    "find_nth_digit_fibonacci(3)"
   ]
  },
  {
   "cell_type": "code",
   "execution_count": 8,
   "metadata": {
    "collapsed": false
   },
   "outputs": [
    {
     "name": "stdout",
     "output_type": "stream",
     "text": [
      "CPU times: user 31.9 ms, sys: 655 µs, total: 32.5 ms\n",
      "Wall time: 32 ms\n"
     ]
    },
    {
     "data": {
      "text/plain": [
       "4782"
      ]
     },
     "execution_count": 8,
     "metadata": {},
     "output_type": "execute_result"
    }
   ],
   "source": [
    "%time find_nth_digit_fibonacci(1000)"
   ]
  },
  {
   "cell_type": "markdown",
   "metadata": {
    "collapsed": true
   },
   "source": [
    "## Problem 26.\n",
    "\n",
    "분자가 1인 분수를 단위분수라고 합니다. 분모가 2에서 10까지의 단위분수는 아래와 같습니다.\n",
    "\n",
    "![image](http://euler.synap.co.kr/images/repetend.png)\n",
    "\n",
    "\n",
    "숫자 위에 찍힌 점은 순환마디를 나타내는데, 1/6의 경우 순환마디는 \"6\"으로 0.166666...처럼 6이 무한히 반복됨을 뜻합니다. 같은 식으로 1/7은 6자리의 순환마디(142857)를 가집니다.\n",
    "\n",
    "d 를 1000 이하의 정수라고 할 때, 단위분수 1/d 의 순환마디가 가장 긴 수는 무엇입니까?"
   ]
  },
  {
   "cell_type": "code",
   "execution_count": 150,
   "metadata": {
    "collapsed": false
   },
   "outputs": [],
   "source": [
    "def find_longest_cycle(num):\n",
    "    result = 0\n",
    "    max_count = 0\n",
    "    for i in range(1, num+1):\n",
    "        cycle_count = get_recurring_cycle_count(i)\n",
    "        if cycle_count > max_count:\n",
    "            max_count = cycle_count\n",
    "            result = i\n",
    "    return result\n",
    "    \n",
    "def get_recurring_cycle_count(num):\n",
    "    reminder = 1\n",
    "    reminder_list = []\n",
    "    while True:\n",
    "        if reminder in reminder_list:\n",
    "            return len(reminder_list[reminder_list.index(reminder):])\n",
    "        else:\n",
    "            reminder_list.append(reminder)\n",
    "        q, r = divmod(reminder, num)\n",
    "        reminder = r * 10"
   ]
  },
  {
   "cell_type": "code",
   "execution_count": 151,
   "metadata": {
    "collapsed": false
   },
   "outputs": [
    {
     "name": "stdout",
     "output_type": "stream",
     "text": [
      "CPU times: user 351 ms, sys: 1.23 ms, total: 352 ms\n",
      "Wall time: 351 ms\n"
     ]
    },
    {
     "data": {
      "text/plain": [
       "983"
      ]
     },
     "execution_count": 151,
     "metadata": {},
     "output_type": "execute_result"
    }
   ],
   "source": [
    "%time find_longest_cycle(1000)"
   ]
  },
  {
   "cell_type": "markdown",
   "metadata": {
    "collapsed": true
   },
   "source": [
    "## Problem 27.\n",
    "\n",
    "오일러는 다음과 같은 멋진 2차식을 제시했습니다.  \n",
    "\n",
    "n^2 + n + 41  \n",
    "이 식의 n에다 0부터 39 사이의 숫자를 넣으면, 그 결과는 모두 소수가 됩니다.  \n",
    "하지만 n = 40일 때의 값 402 + 40 + 41 은 40×(40 + 1) + 41 이므로 41로 나누어지고, n = 41일 때 역시 412 + 41 + 41 이므로 소수가 아닙니다.  \n",
    "\n",
    "컴퓨터의 발전에 힘입어 n2 − 79n + 1601 이라는 엄청난 2차식이 발견되었는데, 이것은 n이 0에서 79 사이일 때 모두 80개의 소수를 만들어냅니다. 이 식의 계수의 곱은 -79 × 1601 = -126479가 됩니다.  \n",
    "\n",
    "아래와 같은 모양의 2차식이 있다고 가정했을 때,  \n",
    "\n",
    "n^2 + an + b   (단 | a | < 1000, | b | < 1000)  \n",
    "0부터 시작하는 연속된 n에 대해 가장 많은 소수를 만들어내는 2차식을 찾아서, 그 계수 a와 b의 곱을 구하세요.  "
   ]
  },
  {
   "cell_type": "code",
   "execution_count": 56,
   "metadata": {
    "collapsed": false
   },
   "outputs": [],
   "source": [
    "def find_quadratic_expression_parameter(a_list, b_list, num):\n",
    "    prime_set = set(find_prime_list_faster((num+5)**2))\n",
    "    \n",
    "    max_a = 0; max_b = 0; max_prime_count = 0\n",
    "    for a in a_list:\n",
    "        for b in b_list:\n",
    "            prime_count = 0\n",
    "            for n in range(num):\n",
    "                if quadratic_expression(n, a, b) in prime_set:\n",
    "                    prime_count += 1\n",
    "                else:\n",
    "                    break\n",
    "                    \n",
    "            if prime_count > max_prime_count:\n",
    "                max_prime_count = prime_count\n",
    "                max_a = a\n",
    "                max_b = b\n",
    "    return max_a, max_b\n",
    "\n",
    "def find_prime_list_faster(num):\n",
    "    sieve_list = [True] * num\n",
    "    start_num = 2\n",
    "    ##Sieve of Eratosthenes\n",
    "    for i in range(start_num, int(num**0.5)+1):\n",
    "        if sieve_list[i]:\n",
    "            sieve_list[i*i::i] = [False] * len(sieve_list[i*i::i])\n",
    "    return [i for i in range(2, num) if sieve_list[i]]\n",
    "                \n",
    "def quadratic_expression(n, a, b):\n",
    "    return n**2 + a*n + b"
   ]
  },
  {
   "cell_type": "code",
   "execution_count": 57,
   "metadata": {
    "collapsed": false
   },
   "outputs": [
    {
     "name": "stdout",
     "output_type": "stream",
     "text": [
      "CPU times: user 3.75 ms, sys: 3 µs, total: 3.76 ms\n",
      "Wall time: 3.76 ms\n"
     ]
    },
    {
     "data": {
      "text/plain": [
       "(1, 41)"
      ]
     },
     "execution_count": 57,
     "metadata": {},
     "output_type": "execute_result"
    }
   ],
   "source": [
    "a_list = range(50)\n",
    "b_list = range(50)\n",
    "%time find_quadratic_expression_parameter(a_list, b_list, 40)"
   ]
  },
  {
   "cell_type": "code",
   "execution_count": 58,
   "metadata": {
    "collapsed": false
   },
   "outputs": [
    {
     "name": "stdout",
     "output_type": "stream",
     "text": [
      "CPU times: user 45.3 ms, sys: 897 µs, total: 46.1 ms\n",
      "Wall time: 45.8 ms\n"
     ]
    },
    {
     "data": {
      "text/plain": [
       "(-15, 97)"
      ]
     },
     "execution_count": 58,
     "metadata": {},
     "output_type": "execute_result"
    }
   ],
   "source": [
    "a_list = range(-99, 100)\n",
    "b_list = range(-99, 100)\n",
    "%time find_quadratic_expression_parameter(a_list, b_list, 100)"
   ]
  },
  {
   "cell_type": "code",
   "execution_count": 59,
   "metadata": {
    "collapsed": false
   },
   "outputs": [
    {
     "name": "stdout",
     "output_type": "stream",
     "text": [
      "CPU times: user 3.88 s, sys: 3.09 ms, total: 3.89 s\n",
      "Wall time: 3.89 s\n",
      "-61 971 -59231\n"
     ]
    }
   ],
   "source": [
    "a_list = range(-999, 1000)\n",
    "b_list = range(-999, 1000)\n",
    "%time a, b = find_quadratic_expression_parameter(a_list, b_list, 100)\n",
    "print(a, b, a*b)"
   ]
  },
  {
   "cell_type": "markdown",
   "metadata": {
    "collapsed": true
   },
   "source": [
    "## Problem 28.\n",
    "\n",
    "숫자 1부터 시작해서 우측으로부터 시계방향으로 감아 5×5 행렬을 만들면 아래와 같이 됩니다.  \n",
    "\n",
    "**21** 22 23 24 **25**  \n",
    "20  **07**  08  **09** 10  \n",
    "19  06  **01**  02 11  \n",
    "18  **05**  04  **03** 12  \n",
    "**17** 16 15 14 **13**  \n",
    "\n",
    "여기서 대각선상의 숫자를 모두 더한 값은 101 입니다.  \n",
    "\n",
    "같은 방식으로 1001×1001 행렬을 만들었을 때, 대각선상의 숫자를 더하면 얼마가 됩니까?  "
   ]
  },
  {
   "cell_type": "code",
   "execution_count": 10,
   "metadata": {
    "collapsed": true
   },
   "outputs": [],
   "source": [
    "def find_sum_of_spiral_diagonals(num):\n",
    "    loop_count = int((num-1) / 2)\n",
    "    start = 1; step = 2\n",
    "    result = 1; \n",
    "    for i in range(loop_count):\n",
    "        for j in range(1, 5):\n",
    "            result += start + (step * j)\n",
    "        start = start + (step * 4)\n",
    "        step += 2\n",
    "    return result"
   ]
  },
  {
   "cell_type": "code",
   "execution_count": 12,
   "metadata": {
    "collapsed": false
   },
   "outputs": [
    {
     "data": {
      "text/plain": [
       "101"
      ]
     },
     "execution_count": 12,
     "metadata": {},
     "output_type": "execute_result"
    }
   ],
   "source": [
    "find_sum_of_spiral_diagonals(5)"
   ]
  },
  {
   "cell_type": "code",
   "execution_count": 13,
   "metadata": {
    "collapsed": false
   },
   "outputs": [
    {
     "name": "stdout",
     "output_type": "stream",
     "text": [
      "CPU times: user 675 µs, sys: 2 µs, total: 677 µs\n",
      "Wall time: 680 µs\n"
     ]
    },
    {
     "data": {
      "text/plain": [
       "669171001"
      ]
     },
     "execution_count": 13,
     "metadata": {},
     "output_type": "execute_result"
    }
   ],
   "source": [
    "%time find_sum_of_spiral_diagonals(1001)"
   ]
  },
  {
   "cell_type": "markdown",
   "metadata": {
    "collapsed": true
   },
   "source": [
    "## Problem 29.\n",
    "\n",
    "2 ≤ a ≤ 5 이고 2 ≤ b ≤ 5인 두 정수 a, b로 만들 수 있는 ab의 모든 조합을 구하면 다음과 같습니다.\n",
    "\n",
    "2^2=4,  2^3=8,  2^4=16,  2^5=32  \n",
    "3^2=9,  3^3=27,  3^4=81,  3^5=243  \n",
    "4^2=16,  4^3=64,  4^4=256,  4^5=1024  \n",
    "5^2=25,  5^3=125,  5^4=625,  5^5=3125  \n",
    "\n",
    "여기서 중복된 것을 빼고 크기 순으로 나열하면 아래와 같은 15개의 숫자가 됩니다.\n",
    "\n",
    "4,  8,  9,  16,  25,  27,  32,  64,  81,  125,  243,  256,  625,  1024,  3125\n",
    "\n",
    "그러면, 2 ≤ a ≤ 100 이고 2 ≤ b ≤ 100인 a, b를 가지고 만들 수 있는 a^b는 중복을 제외하면 모두 몇 개입니까?"
   ]
  },
  {
   "cell_type": "code",
   "execution_count": 4,
   "metadata": {
    "collapsed": true
   },
   "outputs": [],
   "source": [
    "def find_distinct_powers():\n",
    "    a_list = range(2, 101)\n",
    "    b_list = range(2, 101)\n",
    "    \n",
    "    pow_set = set()\n",
    "    for a in a_list:\n",
    "        for b in b_list:\n",
    "            pow_set.add(a**b)\n",
    "    \n",
    "    return len(pow_set)"
   ]
  },
  {
   "cell_type": "code",
   "execution_count": 6,
   "metadata": {
    "collapsed": false
   },
   "outputs": [
    {
     "name": "stdout",
     "output_type": "stream",
     "text": [
      "CPU times: user 8.34 ms, sys: 77 µs, total: 8.42 ms\n",
      "Wall time: 8.41 ms\n"
     ]
    },
    {
     "data": {
      "text/plain": [
       "9183"
      ]
     },
     "execution_count": 6,
     "metadata": {},
     "output_type": "execute_result"
    }
   ],
   "source": [
    "%time find_distinct_powers()"
   ]
  },
  {
   "cell_type": "markdown",
   "metadata": {
    "collapsed": true
   },
   "source": [
    "## Problem 30.\n",
    "\n",
    "각 자리의 숫자를 4제곱해서 더했을 때 자기 자신이 되는 수는 놀랍게도 단 세 개밖에 없습니다.\n",
    "\n",
    "1634 = 1^4 + 6^4 + 3^4 + 4^4  \n",
    "8208 = 8^4 + 2^4 + 0^4 + 8^4  \n",
    "9474 = 9^4 + 4^4 + 7^4 + 4^4  \n",
    "(1 = 1^4의 경우는 엄밀히 말해 합이 아니므로 제외합니다)\n",
    "\n",
    "위의 세 숫자를 모두 더하면 1634 + 8208 + 9474 = 19316 입니다.\n",
    "\n",
    "그렇다면, 각 자리 숫자를 5제곱해서 더했을 때 자기 자신이 되는 수들의 합은 얼마입니까?"
   ]
  },
  {
   "cell_type": "code",
   "execution_count": 27,
   "metadata": {
    "collapsed": true
   },
   "outputs": [],
   "source": [
    "def fine_sum_of_digit_fifth_powers(num):\n",
    "    fitfh_power_list = []\n",
    "    for i in range(2, num+1):\n",
    "        fitfh_power = 0\n",
    "        for j in str(i):\n",
    "            fitfh_power += int(j) ** 5\n",
    "        if i == fitfh_power:\n",
    "            fitfh_power_list.append(i)\n",
    "    return sum(fitfh_power_list)"
   ]
  },
  {
   "cell_type": "code",
   "execution_count": 28,
   "metadata": {
    "collapsed": false
   },
   "outputs": [],
   "source": [
    "## Upper Bound\n",
    "\n",
    "9**5  # 59049\n",
    "\n",
    "# 최소 5자리 숫자\n",
    "5 * (9 ** 5) # 295245\n",
    "\n",
    "# 최소 6자리 숫자\n",
    "upper = 6 * (9 ** 5) #354294"
   ]
  },
  {
   "cell_type": "code",
   "execution_count": 30,
   "metadata": {
    "collapsed": false
   },
   "outputs": [
    {
     "name": "stdout",
     "output_type": "stream",
     "text": [
      "CPU times: user 1.26 s, sys: 1.98 ms, total: 1.26 s\n",
      "Wall time: 1.26 s\n"
     ]
    },
    {
     "data": {
      "text/plain": [
       "443839"
      ]
     },
     "execution_count": 30,
     "metadata": {},
     "output_type": "execute_result"
    }
   ],
   "source": [
    "%time fine_sum_of_digit_fifth_powers(upper)"
   ]
  },
  {
   "cell_type": "code",
   "execution_count": null,
   "metadata": {
    "collapsed": true
   },
   "outputs": [],
   "source": []
  }
 ],
 "metadata": {
  "kernelspec": {
   "display_name": "Python 3",
   "language": "python",
   "name": "python3"
  },
  "language_info": {
   "codemirror_mode": {
    "name": "ipython",
    "version": 3
   },
   "file_extension": ".py",
   "mimetype": "text/x-python",
   "name": "python",
   "nbconvert_exporter": "python",
   "pygments_lexer": "ipython3",
   "version": "3.5.1"
  }
 },
 "nbformat": 4,
 "nbformat_minor": 0
}
